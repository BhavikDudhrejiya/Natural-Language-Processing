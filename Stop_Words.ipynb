{
  "nbformat": 4,
  "nbformat_minor": 0,
  "metadata": {
    "colab": {
      "name": "Stop Words.ipynb",
      "provenance": [],
      "collapsed_sections": []
    },
    "kernelspec": {
      "name": "python3",
      "display_name": "Python 3"
    }
  },
  "cells": [
    {
      "cell_type": "code",
      "metadata": {
        "colab": {
          "base_uri": "https://localhost:8080/"
        },
        "id": "p3UDnZktqUhw",
        "outputId": "399a1dd9-c1e4-4dd3-9240-5370e5690876"
      },
      "source": [
        "#Importing libraries\r\n",
        "import spacy\r\n",
        "nlp = spacy.load('en_core_web_sm')\r\n",
        "\r\n",
        "import nltk\r\n",
        "nltk.download('stopwords')"
      ],
      "execution_count": 1,
      "outputs": [
        {
          "output_type": "stream",
          "text": [
            "[nltk_data] Downloading package stopwords to /root/nltk_data...\n",
            "[nltk_data]   Unzipping corpora/stopwords.zip.\n"
          ],
          "name": "stdout"
        },
        {
          "output_type": "execute_result",
          "data": {
            "text/plain": [
              "True"
            ]
          },
          "metadata": {
            "tags": []
          },
          "execution_count": 1
        }
      ]
    },
    {
      "cell_type": "code",
      "metadata": {
        "colab": {
          "base_uri": "https://localhost:8080/"
        },
        "id": "OScZUJAqqrUr",
        "outputId": "608041ef-3560-403d-d2e5-8f938a5facd6"
      },
      "source": [
        "#Extracting stop words from spacy library and check the length also\r\n",
        "print(nlp.Defaults.stop_words)\r\n",
        "print(len(nlp.Defaults.stop_words))"
      ],
      "execution_count": 2,
      "outputs": [
        {
          "output_type": "stream",
          "text": [
            "{'bottom', 'before', 'everyone', 'itself', 'above', 'wherever', 'even', 'must', \"'s\", '‘s', 'toward', 'whole', '‘ll', 'others', 'have', 'everywhere', 'these', 'next', 'mostly', 'still', 'make', 'whenever', 'already', 'seems', 'nor', 'otherwise', 'thereafter', 'doing', 'really', 'same', 'up', 'whereas', \"'re\", 'per', 'anyone', '’ll', 'between', 'our', 'fifteen', 'last', 'due', 'moreover', 'indeed', 'is', 'go', 'much', 'via', 'whereby', 'almost', 'could', 'do', 'all', 'becomes', 'sixty', 'now', 'might', 'then', 'also', 'thence', 'eight', 'thru', 'other', 'him', 'one', 'seemed', 'became', 'their', 'made', 'what', 'onto', 'on', 'name', 'again', 'beforehand', 'however', 'mine', 'hence', 'nowhere', 'see', 'take', '’ve', 'often', 'should', '’re', 'but', 'therefore', 'hereupon', 'since', 'while', 'along', 'two', 'among', 'if', 'eleven', 'throughout', 'many', 'too', 'yours', 'n’t', 'enough', 'no', 'third', 'someone', 'latter', 'themselves', 'whereupon', 'within', 'its', 'yet', 'keep', 'whereafter', 'former', 'my', 'that', 'five', 'or', 'hundred', 'there', 'well', 'more', 'until', 'them', 'say', 'empty', 'rather', 'be', '‘re', 'did', 'whom', 'just', 'a', 'another', 'himself', 'becoming', 'and', 'side', 'hereafter', \"'ll\", 'move', 'by', 'after', 'therein', 'had', 'top', '‘ve', 'unless', 'behind', 'anyway', 'besides', 'below', 'nine', 'namely', 'n‘t', 'down', 'fifty', 'when', 'wherein', 'of', 'ourselves', 'whither', 'they', 'except', 'such', 'anything', 'been', 'whoever', 'an', 'those', 'yourselves', 'may', 'call', 'here', 'into', 'most', 'put', 'somehow', 'using', 'your', 'never', 'only', '‘m', 'it', 'although', 'so', 'neither', 'for', 'twelve', 'somewhere', 'towards', 'seem', 'whence', 'he', 'upon', 'full', 'thereby', 'ca', 'against', 'least', \"n't\", 'beyond', 'first', 'own', 'in', 'quite', 'herself', 'me', 'are', 'forty', 'elsewhere', 'nevertheless', 'once', 'several', 'myself', 'sometimes', 'around', 'latterly', 'three', 'from', 'something', 'were', 'done', 'through', 'than', 'few', 'thereupon', 'whether', 'please', 'during', 'would', '‘d', 'less', 'meanwhile', 'become', 'various', 'any', 'has', 'we', 'six', 'front', 'everything', 'the', 'why', 'because', 'both', 'does', 'herein', 'used', 'you', 'serious', 'hereby', 'where', 'across', 'afterwards', 'whatever', 'am', 'out', 'was', 'us', 'though', 'either', 'noone', 'hers', 'this', 'always', 'under', 'amongst', 'very', 'get', \"'ve\", 'else', 'whose', 'she', 'every', 'alone', 'her', 'as', 'thus', '’m', 'further', 'back', 'nothing', 'nobody', 're', 'being', \"'d\", '’s', 'about', 'sometime', 'together', 'can', 'beside', 'ever', 'formerly', 'his', 'how', 'off', 'will', 'part', 'ours', 'anywhere', 'who', 'without', 'which', '’d', 'yourself', 'with', 'i', 'anyhow', 'amount', 'perhaps', 'give', 'not', 'seeming', 'twenty', \"'m\", 'show', 'cannot', 'some', 'ten', 'at', 'over', 'none', 'each', 'regarding', 'four', 'to'}\n",
            "326\n"
          ],
          "name": "stdout"
        }
      ]
    },
    {
      "cell_type": "code",
      "metadata": {
        "colab": {
          "base_uri": "https://localhost:8080/"
        },
        "id": "bXHO6nqvq3Gz",
        "outputId": "3475287b-c4cf-4f4f-a535-4d20bc036306"
      },
      "source": [
        "#Checking if a word is a stop word or not\r\n",
        "nlp.vocab['myself'].is_stop"
      ],
      "execution_count": 3,
      "outputs": [
        {
          "output_type": "execute_result",
          "data": {
            "text/plain": [
              "True"
            ]
          },
          "metadata": {
            "tags": []
          },
          "execution_count": 3
        }
      ]
    },
    {
      "cell_type": "code",
      "metadata": {
        "colab": {
          "base_uri": "https://localhost:8080/"
        },
        "id": "_UbXI-PSrXhm",
        "outputId": "d1245bc4-3684-496e-944d-c3daa5ac67eb"
      },
      "source": [
        "#Checking if a word is a stop word or not\r\n",
        "nlp.vocab['is'].is_stop"
      ],
      "execution_count": 4,
      "outputs": [
        {
          "output_type": "execute_result",
          "data": {
            "text/plain": [
              "True"
            ]
          },
          "metadata": {
            "tags": []
          },
          "execution_count": 4
        }
      ]
    },
    {
      "cell_type": "code",
      "metadata": {
        "colab": {
          "base_uri": "https://localhost:8080/"
        },
        "id": "xsPeP556raqv",
        "outputId": "50d0ba63-105f-444f-e0b5-8e976a639d68"
      },
      "source": [
        "#Checking if a word is a stop word or not\r\n",
        "nlp.vocab['poor'].is_stop"
      ],
      "execution_count": 5,
      "outputs": [
        {
          "output_type": "execute_result",
          "data": {
            "text/plain": [
              "False"
            ]
          },
          "metadata": {
            "tags": []
          },
          "execution_count": 5
        }
      ]
    },
    {
      "cell_type": "code",
      "metadata": {
        "id": "RAXpvFE9rdLi"
      },
      "source": [
        "#Adding the word to the set of stop words. use lower case \r\n",
        "nlp.Defaults.stop_words.add('mystery')"
      ],
      "execution_count": 6,
      "outputs": []
    },
    {
      "cell_type": "code",
      "metadata": {
        "colab": {
          "base_uri": "https://localhost:8080/"
        },
        "id": "UN3YvAEasFNL",
        "outputId": "18fa432a-4267-41eb-984c-51c1d1919a92"
      },
      "source": [
        "#Checking if a word is a stop word or not\r\n",
        "nlp.vocab['mystery'].is_stop"
      ],
      "execution_count": 7,
      "outputs": [
        {
          "output_type": "execute_result",
          "data": {
            "text/plain": [
              "True"
            ]
          },
          "metadata": {
            "tags": []
          },
          "execution_count": 7
        }
      ]
    },
    {
      "cell_type": "code",
      "metadata": {
        "id": "1B101XjGsGaK"
      },
      "source": [
        "#Set the stop word tag on the lexeme\r\n",
        "nlp.vocab['mystery'].is_stop = True"
      ],
      "execution_count": 8,
      "outputs": []
    },
    {
      "cell_type": "code",
      "metadata": {
        "colab": {
          "base_uri": "https://localhost:8080/"
        },
        "id": "2lYFA55vsT0y",
        "outputId": "3529544d-81f1-42e6-b8df-7fa4cc8b02dc"
      },
      "source": [
        "#Checking if a word is a stop word or not\r\n",
        "nlp.vocab['mystery'].is_stop"
      ],
      "execution_count": 9,
      "outputs": [
        {
          "output_type": "execute_result",
          "data": {
            "text/plain": [
              "True"
            ]
          },
          "metadata": {
            "tags": []
          },
          "execution_count": 9
        }
      ]
    },
    {
      "cell_type": "code",
      "metadata": {
        "colab": {
          "base_uri": "https://localhost:8080/"
        },
        "id": "b3VNm70zssTt",
        "outputId": "4d0ac1cc-5ddd-462e-e505-d3c05eafd1cf"
      },
      "source": [
        "#Checking the length of stop words\r\n",
        "len(nlp.Defaults.stop_words)"
      ],
      "execution_count": 10,
      "outputs": [
        {
          "output_type": "execute_result",
          "data": {
            "text/plain": [
              "327"
            ]
          },
          "metadata": {
            "tags": []
          },
          "execution_count": 10
        }
      ]
    },
    {
      "cell_type": "code",
      "metadata": {
        "id": "QnfMf8Hvsxcq"
      },
      "source": [
        "#Removing the mystery from stop words\r\n",
        "nlp.Defaults.stop_words.remove('mystery')\r\n",
        "\r\n",
        "#Set the stop word tag on the lexeme\r\n",
        "nlp.vocab['mystery'].is_stop = False"
      ],
      "execution_count": 11,
      "outputs": []
    },
    {
      "cell_type": "code",
      "metadata": {
        "colab": {
          "base_uri": "https://localhost:8080/"
        },
        "id": "0eCAuIZ8tEQ4",
        "outputId": "0f7d1c10-70aa-4a90-cd12-b4cefb10f5dd"
      },
      "source": [
        "#Checking if a word is a stop word or not\r\n",
        "nlp.vocab['mystery'].is_stop"
      ],
      "execution_count": 12,
      "outputs": [
        {
          "output_type": "execute_result",
          "data": {
            "text/plain": [
              "False"
            ]
          },
          "metadata": {
            "tags": []
          },
          "execution_count": 12
        }
      ]
    },
    {
      "cell_type": "code",
      "metadata": {
        "colab": {
          "base_uri": "https://localhost:8080/"
        },
        "id": "e561dfs9fhbu",
        "outputId": "e26f972e-1b20-453c-c1e5-a145bf63e4f1"
      },
      "source": [
        "#Checking the length of stop words\r\n",
        "len(nlp.Defaults.stop_words)"
      ],
      "execution_count": 13,
      "outputs": [
        {
          "output_type": "execute_result",
          "data": {
            "text/plain": [
              "326"
            ]
          },
          "metadata": {
            "tags": []
          },
          "execution_count": 13
        }
      ]
    },
    {
      "cell_type": "code",
      "metadata": {
        "colab": {
          "base_uri": "https://localhost:8080/"
        },
        "id": "L-iggOuIfwCF",
        "outputId": "b4d04d60-a58f-4c68-b1cc-a2d4a9814f61"
      },
      "source": [
        "#Importing libraries\r\n",
        "import string\r\n",
        "import re\r\n",
        "import nltk\r\n",
        "nltk.download('punkt')\r\n",
        "from nltk import word_tokenize, sent_tokenize\r\n",
        "from nltk.corpus import stopwords"
      ],
      "execution_count": 14,
      "outputs": [
        {
          "output_type": "stream",
          "text": [
            "[nltk_data] Downloading package punkt to /root/nltk_data...\n",
            "[nltk_data]   Unzipping tokenizers/punkt.zip.\n"
          ],
          "name": "stdout"
        }
      ]
    },
    {
      "cell_type": "code",
      "metadata": {
        "colab": {
          "base_uri": "https://localhost:8080/"
        },
        "id": "5gPiUH5fgFRK",
        "outputId": "35c1a6c8-d539-405e-d573-bb6ecfe66780"
      },
      "source": [
        "#Splitting words\r\n",
        "text = \"The Quick brown fox jump over the lazy dog!\"\r\n",
        "token = word_tokenize(text)\r\n",
        "[print(token)]"
      ],
      "execution_count": 26,
      "outputs": [
        {
          "output_type": "stream",
          "text": [
            "['The', 'Quick', 'brown', 'fox', 'jump', 'over', 'the', 'lazy', 'dog', '!']\n"
          ],
          "name": "stdout"
        },
        {
          "output_type": "execute_result",
          "data": {
            "text/plain": [
              "[None]"
            ]
          },
          "metadata": {
            "tags": []
          },
          "execution_count": 26
        }
      ]
    },
    {
      "cell_type": "code",
      "metadata": {
        "colab": {
          "base_uri": "https://localhost:8080/"
        },
        "id": "f25R86mFgVA5",
        "outputId": "5044a788-5320-4b33-fe7e-eca7e5fef22d"
      },
      "source": [
        "#Convert to lower case\r\n",
        "token = [w.lower() for w in token]\r\n",
        "print(token)"
      ],
      "execution_count": 27,
      "outputs": [
        {
          "output_type": "stream",
          "text": [
            "['the', 'quick', 'brown', 'fox', 'jump', 'over', 'the', 'lazy', 'dog', '!']\n"
          ],
          "name": "stdout"
        }
      ]
    },
    {
      "cell_type": "code",
      "metadata": {
        "colab": {
          "base_uri": "https://localhost:8080/"
        },
        "id": "jqCmC4XjgwKW",
        "outputId": "2460bf40-5059-4421-ef84-8917f5b99116"
      },
      "source": [
        "#Prepare regex for char filtering\r\n",
        "re_punc = re.compile('[%s]'% re.escape(string.punctuation))\r\n",
        "print(re_punc)"
      ],
      "execution_count": 28,
      "outputs": [
        {
          "output_type": "stream",
          "text": [
            "re.compile('[\\\\!\\\\\"\\\\#\\\\$\\\\%\\\\&\\\\\\'\\\\(\\\\)\\\\*\\\\+\\\\,\\\\-\\\\.\\\\/\\\\:\\\\;\\\\<\\\\=\\\\>\\\\?\\\\@\\\\[\\\\\\\\\\\\]\\\\^_\\\\`\\\\{\\\\|\\\\}\\\\~]')\n"
          ],
          "name": "stdout"
        }
      ]
    },
    {
      "cell_type": "code",
      "metadata": {
        "colab": {
          "base_uri": "https://localhost:8080/"
        },
        "id": "KXj5D9OMhR5b",
        "outputId": "15389351-a872-4c0d-f826-0134f4e1cf9c"
      },
      "source": [
        "#Remove punctuation from each word\r\n",
        "stripped = [re_punc.sub('',w) for w in token]\r\n",
        "print(stripped)"
      ],
      "execution_count": 29,
      "outputs": [
        {
          "output_type": "stream",
          "text": [
            "['the', 'quick', 'brown', 'fox', 'jump', 'over', 'the', 'lazy', 'dog', '']\n"
          ],
          "name": "stdout"
        }
      ]
    },
    {
      "cell_type": "code",
      "metadata": {
        "colab": {
          "base_uri": "https://localhost:8080/"
        },
        "id": "r92NwJojhizN",
        "outputId": "8fa1af7d-b2fa-42c8-8d65-81573143a18f"
      },
      "source": [
        "#Removing remaining tokens that are not alphabetic\r\n",
        "words = [word for word in stripped if word.isalpha()]\r\n",
        "print(words)"
      ],
      "execution_count": 30,
      "outputs": [
        {
          "output_type": "stream",
          "text": [
            "['the', 'quick', 'brown', 'fox', 'jump', 'over', 'the', 'lazy', 'dog']\n"
          ],
          "name": "stdout"
        }
      ]
    },
    {
      "cell_type": "code",
      "metadata": {
        "colab": {
          "base_uri": "https://localhost:8080/"
        },
        "id": "pSajbD9Th9OX",
        "outputId": "64fcfb12-c32f-4109-f54d-74ada2900190"
      },
      "source": [
        "#Filtering non stop words\r\n",
        "stop_words = set(stopwords.words('english'))\r\n",
        "words = [w for w in words if not w in stop_words]\r\n",
        "print(words)"
      ],
      "execution_count": 31,
      "outputs": [
        {
          "output_type": "stream",
          "text": [
            "['quick', 'brown', 'fox', 'jump', 'lazy', 'dog']\n"
          ],
          "name": "stdout"
        }
      ]
    },
    {
      "cell_type": "code",
      "metadata": {
        "colab": {
          "base_uri": "https://localhost:8080/"
        },
        "id": "XPQaXBZniUN5",
        "outputId": "c5a70fd8-ea5e-48ae-ce99-f8891cac7502"
      },
      "source": [
        "#Checking whether remaining words are stop words or not\r\n",
        "for word in words:\r\n",
        "  print(word,'=',nlp.vocab[word].is_stop)"
      ],
      "execution_count": 32,
      "outputs": [
        {
          "output_type": "stream",
          "text": [
            "quick = False\n",
            "brown = False\n",
            "fox = False\n",
            "jump = False\n",
            "lazy = False\n",
            "dog = False\n"
          ],
          "name": "stdout"
        }
      ]
    },
    {
      "cell_type": "code",
      "metadata": {
        "id": "DRpTlZiHjBQA"
      },
      "source": [
        ""
      ],
      "execution_count": null,
      "outputs": []
    }
  ]
}