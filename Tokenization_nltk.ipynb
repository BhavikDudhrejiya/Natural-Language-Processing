{
 "cells": [
  {
   "cell_type": "code",
   "execution_count": 1,
   "metadata": {},
   "outputs": [],
   "source": [
    "#Loading libraires\n",
    "import nltk"
   ]
  },
  {
   "cell_type": "code",
   "execution_count": 2,
   "metadata": {},
   "outputs": [],
   "source": [
    "#Creating paragraph\n",
    "para = '''Dr Avul Pakir Jainulabdeen Abdul Kalam was born on 15 October 1931, at Rameswaram in Tamil Nadu, India. He specialized in Aeronautical \n",
    "Engineering from Madras Institute of Technology and became an eminent scientist. Dr Kalam was awarded the Padma Bhushan (1981), the Padma Vibhushan \n",
    "(1990), and India’s highest civilian award- the Bharat Ratna in 1997. In 2002, Dr Kalam became the 11th President of India. He was fondly called \n",
    "the people's President for being the first President in the country to connect with the youth via the internet. Named as the 'Missile Man' of India for \n",
    "his contributions in the field, he redefined the Presidency during his tenure from 2002 to 2007. He often spoke to children and the country's \n",
    "youth-- inspiring them to think big in life; he also penned a number of books. Dr Kalam succumbed to a massive cardiac arrest and breath his last on \n",
    "July 27, 2015 while delivering a speech at IIM Shillong. Here are some of his evergreen quotes from his speeches.'''"
   ]
  },
  {
   "cell_type": "code",
   "execution_count": 3,
   "metadata": {},
   "outputs": [],
   "source": [
    "#Tokenizing the sentence\n",
    "sentence = nltk.sent_tokenize(para)"
   ]
  },
  {
   "cell_type": "code",
   "execution_count": 4,
   "metadata": {},
   "outputs": [
    {
     "data": {
      "text/plain": [
       "['Dr Avul Pakir Jainulabdeen Abdul Kalam was born on 15 October 1931, at Rameswaram in Tamil Nadu, India.',\n",
       " 'He specialized in Aeronautical \\nEngineering from Madras Institute of Technology and became an eminent scientist.',\n",
       " 'Dr Kalam was awarded the Padma Bhushan (1981), the Padma Vibhushan \\n(1990), and India’s highest civilian award- the Bharat Ratna in 1997.',\n",
       " 'In 2002, Dr Kalam became the 11th President of India.',\n",
       " \"He was fondly called \\nthe people's President for being the first President in the country to connect with the youth via the internet.\",\n",
       " \"Named as the 'Missile Man' of India for \\nhis contributions in the field, he redefined the Presidency during his tenure from 2002 to 2007.\",\n",
       " \"He often spoke to children and the country's \\nyouth-- inspiring them to think big in life; he also penned a number of books.\",\n",
       " 'Dr Kalam succumbed to a massive cardiac arrest and breath his last on \\nJuly 27, 2015 while delivering a speech at IIM Shillong.',\n",
       " 'Here are some of his evergreen quotes from his speeches.']"
      ]
     },
     "execution_count": 4,
     "metadata": {},
     "output_type": "execute_result"
    }
   ],
   "source": [
    "#Checking tokenized sentences\n",
    "sentence"
   ]
  },
  {
   "cell_type": "code",
   "execution_count": 5,
   "metadata": {},
   "outputs": [
    {
     "data": {
      "text/plain": [
       "9"
      ]
     },
     "execution_count": 5,
     "metadata": {},
     "output_type": "execute_result"
    }
   ],
   "source": [
    "#Checking length of the sentences\n",
    "len(sentence)"
   ]
  },
  {
   "cell_type": "code",
   "execution_count": 6,
   "metadata": {},
   "outputs": [],
   "source": [
    "#Tokenizing the words\n",
    "words = nltk.word_tokenize(para)"
   ]
  },
  {
   "cell_type": "code",
   "execution_count": 7,
   "metadata": {},
   "outputs": [
    {
     "data": {
      "text/plain": [
       "['Dr',\n",
       " 'Avul',\n",
       " 'Pakir',\n",
       " 'Jainulabdeen',\n",
       " 'Abdul',\n",
       " 'Kalam',\n",
       " 'was',\n",
       " 'born',\n",
       " 'on',\n",
       " '15',\n",
       " 'October',\n",
       " '1931',\n",
       " ',',\n",
       " 'at',\n",
       " 'Rameswaram',\n",
       " 'in',\n",
       " 'Tamil',\n",
       " 'Nadu',\n",
       " ',',\n",
       " 'India',\n",
       " '.',\n",
       " 'He',\n",
       " 'specialized',\n",
       " 'in',\n",
       " 'Aeronautical',\n",
       " 'Engineering',\n",
       " 'from',\n",
       " 'Madras',\n",
       " 'Institute',\n",
       " 'of',\n",
       " 'Technology',\n",
       " 'and',\n",
       " 'became',\n",
       " 'an',\n",
       " 'eminent',\n",
       " 'scientist',\n",
       " '.',\n",
       " 'Dr',\n",
       " 'Kalam',\n",
       " 'was',\n",
       " 'awarded',\n",
       " 'the',\n",
       " 'Padma',\n",
       " 'Bhushan',\n",
       " '(',\n",
       " '1981',\n",
       " ')',\n",
       " ',',\n",
       " 'the',\n",
       " 'Padma',\n",
       " 'Vibhushan',\n",
       " '(',\n",
       " '1990',\n",
       " ')',\n",
       " ',',\n",
       " 'and',\n",
       " 'India',\n",
       " '’',\n",
       " 's',\n",
       " 'highest',\n",
       " 'civilian',\n",
       " 'award-',\n",
       " 'the',\n",
       " 'Bharat',\n",
       " 'Ratna',\n",
       " 'in',\n",
       " '1997',\n",
       " '.',\n",
       " 'In',\n",
       " '2002',\n",
       " ',',\n",
       " 'Dr',\n",
       " 'Kalam',\n",
       " 'became',\n",
       " 'the',\n",
       " '11th',\n",
       " 'President',\n",
       " 'of',\n",
       " 'India',\n",
       " '.',\n",
       " 'He',\n",
       " 'was',\n",
       " 'fondly',\n",
       " 'called',\n",
       " 'the',\n",
       " 'people',\n",
       " \"'s\",\n",
       " 'President',\n",
       " 'for',\n",
       " 'being',\n",
       " 'the',\n",
       " 'first',\n",
       " 'President',\n",
       " 'in',\n",
       " 'the',\n",
       " 'country',\n",
       " 'to',\n",
       " 'connect',\n",
       " 'with',\n",
       " 'the',\n",
       " 'youth',\n",
       " 'via',\n",
       " 'the',\n",
       " 'internet',\n",
       " '.',\n",
       " 'Named',\n",
       " 'as',\n",
       " 'the',\n",
       " \"'Missile\",\n",
       " 'Man',\n",
       " \"'\",\n",
       " 'of',\n",
       " 'India',\n",
       " 'for',\n",
       " 'his',\n",
       " 'contributions',\n",
       " 'in',\n",
       " 'the',\n",
       " 'field',\n",
       " ',',\n",
       " 'he',\n",
       " 'redefined',\n",
       " 'the',\n",
       " 'Presidency',\n",
       " 'during',\n",
       " 'his',\n",
       " 'tenure',\n",
       " 'from',\n",
       " '2002',\n",
       " 'to',\n",
       " '2007',\n",
       " '.',\n",
       " 'He',\n",
       " 'often',\n",
       " 'spoke',\n",
       " 'to',\n",
       " 'children',\n",
       " 'and',\n",
       " 'the',\n",
       " 'country',\n",
       " \"'s\",\n",
       " 'youth',\n",
       " '--',\n",
       " 'inspiring',\n",
       " 'them',\n",
       " 'to',\n",
       " 'think',\n",
       " 'big',\n",
       " 'in',\n",
       " 'life',\n",
       " ';',\n",
       " 'he',\n",
       " 'also',\n",
       " 'penned',\n",
       " 'a',\n",
       " 'number',\n",
       " 'of',\n",
       " 'books',\n",
       " '.',\n",
       " 'Dr',\n",
       " 'Kalam',\n",
       " 'succumbed',\n",
       " 'to',\n",
       " 'a',\n",
       " 'massive',\n",
       " 'cardiac',\n",
       " 'arrest',\n",
       " 'and',\n",
       " 'breath',\n",
       " 'his',\n",
       " 'last',\n",
       " 'on',\n",
       " 'July',\n",
       " '27',\n",
       " ',',\n",
       " '2015',\n",
       " 'while',\n",
       " 'delivering',\n",
       " 'a',\n",
       " 'speech',\n",
       " 'at',\n",
       " 'IIM',\n",
       " 'Shillong',\n",
       " '.',\n",
       " 'Here',\n",
       " 'are',\n",
       " 'some',\n",
       " 'of',\n",
       " 'his',\n",
       " 'evergreen',\n",
       " 'quotes',\n",
       " 'from',\n",
       " 'his',\n",
       " 'speeches',\n",
       " '.']"
      ]
     },
     "execution_count": 7,
     "metadata": {},
     "output_type": "execute_result"
    }
   ],
   "source": [
    "#Checking tokenized words\n",
    "words   "
   ]
  },
  {
   "cell_type": "code",
   "execution_count": 8,
   "metadata": {},
   "outputs": [
    {
     "data": {
      "text/plain": [
       "195"
      ]
     },
     "execution_count": 8,
     "metadata": {},
     "output_type": "execute_result"
    }
   ],
   "source": [
    "#Checking length of the words\n",
    "len(words)"
   ]
  }
 ],
 "metadata": {
  "kernelspec": {
   "display_name": "Python 3.8.10 64-bit",
   "language": "python",
   "name": "python3"
  },
  "language_info": {
   "codemirror_mode": {
    "name": "ipython",
    "version": 3
   },
   "file_extension": ".py",
   "mimetype": "text/x-python",
   "name": "python",
   "nbconvert_exporter": "python",
   "pygments_lexer": "ipython3",
   "version": "3.8.10"
  },
  "orig_nbformat": 4,
  "vscode": {
   "interpreter": {
    "hash": "916dbcbb3f70747c44a77c7bcd40155683ae19c65e1c03b4aa3499c5328201f1"
   }
  }
 },
 "nbformat": 4,
 "nbformat_minor": 2
}
