{
  "nbformat": 4,
  "nbformat_minor": 0,
  "metadata": {
    "colab": {
      "provenance": [],
      "collapsed_sections": [],
      "authorship_tag": "ABX9TyP4TiHYDJCl2zdJfMjziL0c",
      "include_colab_link": true
    },
    "kernelspec": {
      "name": "python3",
      "display_name": "Python 3"
    },
    "language_info": {
      "name": "python"
    }
  },
  "cells": [
    {
      "cell_type": "markdown",
      "metadata": {
        "id": "view-in-github",
        "colab_type": "text"
      },
      "source": [
        "<a href=\"https://colab.research.google.com/github/BhavikDudhrejiya/Natural-Language-Processing/blob/main/TF_IDF.ipynb\" target=\"_parent\"><img src=\"https://colab.research.google.com/assets/colab-badge.svg\" alt=\"Open In Colab\"/></a>"
      ]
    },
    {
      "cell_type": "code",
      "source": [
        "from sklearn.feature_extraction.text import TfidfVectorizer"
      ],
      "metadata": {
        "id": "2ewMgUk6HzNW"
      },
      "execution_count": 13,
      "outputs": []
    },
    {
      "cell_type": "code",
      "source": [
        "text = ['I am interested in NLP',\n",
        "        'This is a good tutorials with good topic',\n",
        "        'Feature extraction is very important topic']"
      ],
      "metadata": {
        "id": "GqIU474TEzRn"
      },
      "execution_count": 12,
      "outputs": []
    },
    {
      "cell_type": "code",
      "source": [
        "tfidf = TfidfVectorizer(stop_words='english')"
      ],
      "metadata": {
        "id": "6_P2SC_ZH9N3"
      },
      "execution_count": 14,
      "outputs": []
    },
    {
      "cell_type": "code",
      "source": [
        "tfidf.fit(text)"
      ],
      "metadata": {
        "colab": {
          "base_uri": "https://localhost:8080/"
        },
        "id": "DXfXMp5qIGM5",
        "outputId": "325d18ad-4343-45b5-936b-e54ec8ad20a0"
      },
      "execution_count": 15,
      "outputs": [
        {
          "output_type": "execute_result",
          "data": {
            "text/plain": [
              "TfidfVectorizer(stop_words='english')"
            ]
          },
          "metadata": {},
          "execution_count": 15
        }
      ]
    },
    {
      "cell_type": "code",
      "source": [
        "tfidf.vocabulary_"
      ],
      "metadata": {
        "colab": {
          "base_uri": "https://localhost:8080/"
        },
        "id": "tcnAAsKMII3I",
        "outputId": "8b0ce2fd-1858-4aa9-f264-fb81d622ef3a"
      },
      "execution_count": 17,
      "outputs": [
        {
          "output_type": "execute_result",
          "data": {
            "text/plain": [
              "{'interested': 4,\n",
              " 'nlp': 5,\n",
              " 'good': 2,\n",
              " 'tutorials': 7,\n",
              " 'topic': 6,\n",
              " 'feature': 1,\n",
              " 'extraction': 0,\n",
              " 'important': 3}"
            ]
          },
          "metadata": {},
          "execution_count": 17
        }
      ]
    },
    {
      "cell_type": "code",
      "source": [
        "tfidf_features = tfidf.transform(text)"
      ],
      "metadata": {
        "id": "jt7j5hLRIN43"
      },
      "execution_count": 18,
      "outputs": []
    },
    {
      "cell_type": "code",
      "source": [
        "tfidf_features.toarray()"
      ],
      "metadata": {
        "colab": {
          "base_uri": "https://localhost:8080/"
        },
        "id": "FlCsFA_IIerq",
        "outputId": "0fe6e4ce-d7c8-41e8-b5a4-62380edf68c5"
      },
      "execution_count": 19,
      "outputs": [
        {
          "output_type": "execute_result",
          "data": {
            "text/plain": [
              "array([[0.        , 0.        , 0.        , 0.        , 0.70710678,\n",
              "        0.70710678, 0.        , 0.        ],\n",
              "       [0.        , 0.        , 0.84678897, 0.        , 0.        ,\n",
              "        0.        , 0.32200242, 0.42339448],\n",
              "       [0.52863461, 0.52863461, 0.        , 0.52863461, 0.        ,\n",
              "        0.        , 0.40204024, 0.        ]])"
            ]
          },
          "metadata": {},
          "execution_count": 19
        }
      ]
    },
    {
      "cell_type": "code",
      "source": [
        "for i, j in zip(text, tfidf_features):\n",
        "  print(i)\n",
        "  print(j)"
      ],
      "metadata": {
        "colab": {
          "base_uri": "https://localhost:8080/"
        },
        "id": "BS8EUJQNIhmK",
        "outputId": "03b5658d-9d42-4052-d27f-c2f494fe335a"
      },
      "execution_count": 20,
      "outputs": [
        {
          "output_type": "stream",
          "name": "stdout",
          "text": [
            "I am interested in NLP\n",
            "  (0, 5)\t0.7071067811865476\n",
            "  (0, 4)\t0.7071067811865476\n",
            "This is a good tutorials with good topic\n",
            "  (0, 7)\t0.42339448341195934\n",
            "  (0, 6)\t0.3220024178194947\n",
            "  (0, 2)\t0.8467889668239187\n",
            "Feature extraction is very important topic\n",
            "  (0, 6)\t0.4020402441612698\n",
            "  (0, 3)\t0.5286346066596935\n",
            "  (0, 1)\t0.5286346066596935\n",
            "  (0, 0)\t0.5286346066596935\n"
          ]
        }
      ]
    }
  ]
}