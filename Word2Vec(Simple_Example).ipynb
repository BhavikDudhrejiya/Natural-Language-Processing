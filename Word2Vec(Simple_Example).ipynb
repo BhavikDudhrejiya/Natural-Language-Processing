{
  "nbformat": 4,
  "nbformat_minor": 0,
  "metadata": {
    "colab": {
      "provenance": [],
      "collapsed_sections": [],
      "authorship_tag": "ABX9TyOzirPofQAFUb7CRou9yE8Y",
      "include_colab_link": true
    },
    "kernelspec": {
      "name": "python3",
      "display_name": "Python 3"
    },
    "language_info": {
      "name": "python"
    }
  },
  "cells": [
    {
      "cell_type": "markdown",
      "metadata": {
        "id": "view-in-github",
        "colab_type": "text"
      },
      "source": [
        "<a href=\"https://colab.research.google.com/github/BhavikDudhrejiya/Natural-Language-Processing/blob/main/Word2Vec(Simple_Example).ipynb\" target=\"_parent\"><img src=\"https://colab.research.google.com/assets/colab-badge.svg\" alt=\"Open In Colab\"/></a>"
      ]
    },
    {
      "cell_type": "code",
      "execution_count": 5,
      "metadata": {
        "id": "GsgnqqIj_JFx"
      },
      "outputs": [],
      "source": [
        "from gensim.test.utils import common_texts\n",
        "from gensim.models import Word2Vec"
      ]
    },
    {
      "cell_type": "code",
      "source": [
        "common_texts"
      ],
      "metadata": {
        "colab": {
          "base_uri": "https://localhost:8080/"
        },
        "id": "9NCAh3DSAbk-",
        "outputId": "a14cc3a2-135e-4d00-9cc7-5f1584feaa3b"
      },
      "execution_count": 2,
      "outputs": [
        {
          "output_type": "execute_result",
          "data": {
            "text/plain": [
              "[['human', 'interface', 'computer'],\n",
              " ['survey', 'user', 'computer', 'system', 'response', 'time'],\n",
              " ['eps', 'user', 'interface', 'system'],\n",
              " ['system', 'human', 'system', 'eps'],\n",
              " ['user', 'response', 'time'],\n",
              " ['trees'],\n",
              " ['graph', 'trees'],\n",
              " ['graph', 'minors', 'trees'],\n",
              " ['graph', 'minors', 'survey']]"
            ]
          },
          "metadata": {},
          "execution_count": 2
        }
      ]
    },
    {
      "cell_type": "code",
      "source": [
        "model = Word2Vec(common_texts, size=100, min_count=1)"
      ],
      "metadata": {
        "colab": {
          "base_uri": "https://localhost:8080/"
        },
        "id": "4XZwC-xaAdkO",
        "outputId": "421fe7f7-1fba-4a9f-9b4e-756985f8438e"
      },
      "execution_count": 7,
      "outputs": [
        {
          "output_type": "stream",
          "name": "stderr",
          "text": [
            "WARNING:gensim.models.base_any2vec:under 10 jobs per worker: consider setting a smaller `batch_words' for smoother alpha decay\n"
          ]
        }
      ]
    },
    {
      "cell_type": "code",
      "source": [
        "model.wv['human']"
      ],
      "metadata": {
        "colab": {
          "base_uri": "https://localhost:8080/"
        },
        "id": "I9f7n2E-AsVj",
        "outputId": "060dab55-591b-46ca-a1de-00f18a7e1f99"
      },
      "execution_count": 11,
      "outputs": [
        {
          "output_type": "execute_result",
          "data": {
            "text/plain": [
              "array([-3.88265908e-04, -3.13137728e-03, -2.66107195e-03, -4.81441850e-03,\n",
              "        1.91115751e-03,  4.26094513e-03, -2.69280514e-04, -2.40714499e-03,\n",
              "       -3.08403722e-03, -4.11295379e-03, -1.30515231e-03, -3.57049808e-04,\n",
              "        1.18570589e-03,  4.17339103e-03,  2.83747795e-03, -4.48029675e-03,\n",
              "       -3.94633552e-03, -4.54957038e-03,  1.96205408e-04, -2.91808252e-03,\n",
              "        4.54693101e-03,  4.52885375e-04,  1.90538494e-03, -1.02913985e-03,\n",
              "        4.38098097e-03,  1.50202750e-03, -3.50748305e-03, -1.83277088e-03,\n",
              "        1.26467971e-03,  7.66889483e-04, -2.36694049e-03, -1.49008015e-03,\n",
              "        2.05265544e-03, -1.52246421e-03,  2.82978383e-03, -2.26172246e-03,\n",
              "        1.02765225e-04, -1.71674869e-03, -2.10417644e-03, -4.10774676e-03,\n",
              "       -3.64365685e-03, -2.51062051e-03,  9.43847117e-04, -2.28315382e-03,\n",
              "        6.33166746e-06, -3.33061023e-03, -6.31094852e-04, -4.77324706e-03,\n",
              "       -1.85590738e-03,  1.35345563e-05, -1.51975325e-03, -1.47640530e-03,\n",
              "       -1.44528982e-03, -3.68463970e-03, -3.94333503e-04, -2.95557291e-03,\n",
              "       -3.53805255e-03, -1.86957105e-03, -6.83075574e-04, -3.08601209e-03,\n",
              "        2.83393497e-03,  1.62203540e-03,  2.42721918e-03,  2.21680687e-03,\n",
              "       -1.43688259e-04, -4.79684590e-04,  4.33378061e-03,  1.69288670e-03,\n",
              "        4.08892147e-03, -8.19917332e-05,  1.16415729e-03, -1.71975314e-03,\n",
              "        1.03050191e-03, -3.46887903e-03, -4.07966174e-04, -3.17036500e-03,\n",
              "       -3.09784967e-03, -1.76176385e-04,  1.13458559e-03, -4.04373603e-03,\n",
              "       -3.90612148e-03,  7.84468866e-05,  1.57239183e-03, -2.35795300e-03,\n",
              "        4.71163541e-03, -1.63992459e-03,  2.06549559e-03,  1.59900705e-03,\n",
              "       -4.79282113e-03,  2.26142025e-03,  4.54207649e-03, -2.12555076e-03,\n",
              "        2.81434483e-03, -1.23781350e-03, -9.99502023e-04, -3.15332756e-04,\n",
              "       -1.04726921e-03,  2.12175725e-03, -4.47461475e-03,  1.66145933e-03],\n",
              "      dtype=float32)"
            ]
          },
          "metadata": {},
          "execution_count": 11
        }
      ]
    },
    {
      "cell_type": "code",
      "source": [
        "model.wv.most_similar('graph')"
      ],
      "metadata": {
        "colab": {
          "base_uri": "https://localhost:8080/"
        },
        "id": "ZYEhQlkPBIYv",
        "outputId": "a40f1b33-16bb-494a-e342-d4591d080d96"
      },
      "execution_count": 9,
      "outputs": [
        {
          "output_type": "execute_result",
          "data": {
            "text/plain": [
              "[('minors', 0.12949517369270325),\n",
              " ('survey', 0.11283189803361893),\n",
              " ('eps', 0.07927330583333969),\n",
              " ('trees', 0.05162849649786949),\n",
              " ('response', 0.03182297945022583),\n",
              " ('computer', 0.02853998914361),\n",
              " ('user', 0.02593304216861725),\n",
              " ('system', -0.00013013184070587158),\n",
              " ('human', -0.0030233338475227356),\n",
              " ('interface', -0.1309233158826828)]"
            ]
          },
          "metadata": {},
          "execution_count": 9
        }
      ]
    },
    {
      "cell_type": "code",
      "source": [],
      "metadata": {
        "id": "a-UFYvFCBTYN"
      },
      "execution_count": null,
      "outputs": []
    }
  ]
}