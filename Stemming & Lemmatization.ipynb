{
 "cells": [
  {
   "cell_type": "code",
   "execution_count": 1,
   "metadata": {},
   "outputs": [],
   "source": [
    "#Loading libraires\n",
    "import nltk\n",
    "from nltk.stem import PorterStemmer, WordNetLemmatizer\n",
    "from nltk.corpus import stopwords\n",
    "import re"
   ]
  },
  {
   "cell_type": "code",
   "execution_count": 5,
   "metadata": {},
   "outputs": [],
   "source": [
    "#Creating paragraph\n",
    "para = '''Dr Avul Pakir Jainulabdeen Abdul Kalam was born on 15 October 1931, at Rameswaram in Tamil Nadu, India. He specialized in Aeronautical \n",
    "Engineering from Madras Institute of Technology and became an eminent scientist. Dr Kalam was awarded the Padma Bhushan (1981), the Padma Vibhushan \n",
    "(1990), and India’s highest civilian award- the Bharat Ratna in 1997. In 2002, Dr Kalam became the 11th President of India. He was fondly called \n",
    "the people's President for being the first President in the country to connect with the youth via the internet. Named as the 'Missile Man' of India for \n",
    "his contributions in the field, he redefined the Presidency during his tenure from 2002 to 2007. He often spoke to children and the country's \n",
    "youth-- inspiring them to think big in life; he also penned a number of books. Dr Kalam succumbed to a massive cardiac arrest and breath his last on \n",
    "July 27, 2015 while delivering a speech at IIM Shillong. Here are some of his evergreen quotes from his speeches.'''"
   ]
  },
  {
   "cell_type": "code",
   "execution_count": 6,
   "metadata": {},
   "outputs": [],
   "source": [
    "#Tokenizing the sentence\n",
    "sentence = nltk.sent_tokenize(para)"
   ]
  },
  {
   "cell_type": "code",
   "execution_count": 7,
   "metadata": {},
   "outputs": [
    {
     "data": {
      "text/plain": [
       "['Dr Avul Pakir Jainulabdeen Abdul Kalam was born on 15 October 1931, at Rameswaram in Tamil Nadu, India.',\n",
       " 'He specialized in Aeronautical \\nEngineering from Madras Institute of Technology and became an eminent scientist.',\n",
       " 'Dr Kalam was awarded the Padma Bhushan (1981), the Padma Vibhushan \\n(1990), and India’s highest civilian award- the Bharat Ratna in 1997.',\n",
       " 'In 2002, Dr Kalam became the 11th President of India.',\n",
       " \"He was fondly called \\nthe people's President for being the first President in the country to connect with the youth via the internet.\",\n",
       " \"Named as the 'Missile Man' of India for \\nhis contributions in the field, he redefined the Presidency during his tenure from 2002 to 2007.\",\n",
       " \"He often spoke to children and the country's \\nyouth-- inspiring them to think big in life; he also penned a number of books.\",\n",
       " 'Dr Kalam succumbed to a massive cardiac arrest and breath his last on \\nJuly 27, 2015 while delivering a speech at IIM Shillong.',\n",
       " 'Here are some of his evergreen quotes from his speeches.']"
      ]
     },
     "execution_count": 7,
     "metadata": {},
     "output_type": "execute_result"
    }
   ],
   "source": [
    "#Checking tokenized sentences\n",
    "sentence"
   ]
  },
  {
   "cell_type": "code",
   "execution_count": 5,
   "metadata": {},
   "outputs": [],
   "source": [
    "#Initialize stemmer\n",
    "stemmer = PorterStemmer()"
   ]
  },
  {
   "cell_type": "code",
   "execution_count": 43,
   "metadata": {},
   "outputs": [],
   "source": [
    "#Implementing stemming\n",
    "stemmed_sentence = []\n",
    "\n",
    "for i in sentence:\n",
    "    words = nltk.word_tokenize(i)\n",
    "    words = [re.sub('[^A-Za-z0-9]+', '', j) for j in words]\n",
    "    words = [stemmer.stem(j) for j in words if j not in set(stopwords.words('english'))]\n",
    "    stemmed_sentence.append(' '.join(words))\n"
   ]
  },
  {
   "cell_type": "code",
   "execution_count": 44,
   "metadata": {},
   "outputs": [
    {
     "data": {
      "text/plain": [
       "['dr avul pakir jainulabdeen abdul kalam born 15 octob 1931  rameswaram tamil nadu  india ',\n",
       " 'he special aeronaut engin madra institut technolog becam emin scientist ',\n",
       " 'dr kalam award padma bhushan  1981   padma vibhushan  1990   india  highest civilian award bharat ratna 1997 ',\n",
       " 'in 2002  dr kalam becam 11th presid india ',\n",
       " 'he fondli call peopl presid first presid countri connect youth via internet ',\n",
       " 'name missil man  india contribut field  redefin presid tenur 2002 2007 ',\n",
       " 'he often spoke children countri youth  inspir think big life  also pen number book ',\n",
       " 'dr kalam succumb massiv cardiac arrest breath last juli 27  2015 deliv speech iim shillong ',\n",
       " 'here evergreen quot speech ']"
      ]
     },
     "execution_count": 44,
     "metadata": {},
     "output_type": "execute_result"
    }
   ],
   "source": [
    "#Checking stemming sentences\n",
    "stemmed_sentence"
   ]
  },
  {
   "cell_type": "markdown",
   "metadata": {},
   "source": [
    "# LEMMATIZATION"
   ]
  },
  {
   "cell_type": "code",
   "execution_count": 2,
   "metadata": {},
   "outputs": [],
   "source": [
    "#Initialize lemmatizer\n",
    "lemmatizer = WordNetLemmatizer()"
   ]
  },
  {
   "cell_type": "code",
   "execution_count": 8,
   "metadata": {},
   "outputs": [],
   "source": [
    "#Implementing lemmatizatImplementingion\n",
    "lemm_sentence = []\n",
    "\n",
    "for i in sentence:\n",
    "    words = nltk.word_tokenize(i)\n",
    "    words = [re.sub('[^A-Za-z0-9]+', '', j) for j in words]\n",
    "    words = [lemmatizer.lemmatize(j) for j in words if j not in set(stopwords.words('english'))]\n",
    "    lemm_sentence.append(' '.join(words))"
   ]
  },
  {
   "cell_type": "code",
   "execution_count": 9,
   "metadata": {},
   "outputs": [
    {
     "data": {
      "text/plain": [
       "['Dr Avul Pakir Jainulabdeen Abdul Kalam born 15 October 1931  Rameswaram Tamil Nadu  India ',\n",
       " 'He specialized Aeronautical Engineering Madras Institute Technology became eminent scientist ',\n",
       " 'Dr Kalam awarded Padma Bhushan  1981   Padma Vibhushan  1990   India  highest civilian award Bharat Ratna 1997 ',\n",
       " 'In 2002  Dr Kalam became 11th President India ',\n",
       " 'He fondly called people President first President country connect youth via internet ',\n",
       " 'Named Missile Man  India contribution field  redefined Presidency tenure 2002 2007 ',\n",
       " 'He often spoke child country youth  inspiring think big life  also penned number book ',\n",
       " 'Dr Kalam succumbed massive cardiac arrest breath last July 27  2015 delivering speech IIM Shillong ',\n",
       " 'Here evergreen quote speech ']"
      ]
     },
     "execution_count": 9,
     "metadata": {},
     "output_type": "execute_result"
    }
   ],
   "source": [
    "#Checking lemmatized sentences\n",
    "lemm_sentence"
   ]
  }
 ],
 "metadata": {
  "kernelspec": {
   "display_name": "Python 3.8.10 64-bit",
   "language": "python",
   "name": "python3"
  },
  "language_info": {
   "codemirror_mode": {
    "name": "ipython",
    "version": 3
   },
   "file_extension": ".py",
   "mimetype": "text/x-python",
   "name": "python",
   "nbconvert_exporter": "python",
   "pygments_lexer": "ipython3",
   "version": "3.8.10"
  },
  "orig_nbformat": 4,
  "vscode": {
   "interpreter": {
    "hash": "916dbcbb3f70747c44a77c7bcd40155683ae19c65e1c03b4aa3499c5328201f1"
   }
  }
 },
 "nbformat": 4,
 "nbformat_minor": 2
}
