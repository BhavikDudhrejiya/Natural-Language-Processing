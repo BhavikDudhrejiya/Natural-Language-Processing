{
  "nbformat": 4,
  "nbformat_minor": 0,
  "metadata": {
    "colab": {
      "name": "Text Summarizer.ipynb",
      "provenance": [],
      "collapsed_sections": [],
      "authorship_tag": "ABX9TyM/lx0WQUtOYSkKVcuIbUxF",
      "include_colab_link": true
    },
    "kernelspec": {
      "name": "python3",
      "display_name": "Python 3"
    },
    "language_info": {
      "name": "python"
    }
  },
  "cells": [
    {
      "cell_type": "markdown",
      "metadata": {
        "id": "view-in-github",
        "colab_type": "text"
      },
      "source": [
        "<a href=\"https://colab.research.google.com/github/BhavikDudhrejiya/Natural-Language-Processing/blob/main/Text_Summarizer.ipynb\" target=\"_parent\"><img src=\"https://colab.research.google.com/assets/colab-badge.svg\" alt=\"Open In Colab\"/></a>"
      ]
    },
    {
      "cell_type": "code",
      "execution_count": null,
      "metadata": {
        "id": "ihv-6-TCe6qQ"
      },
      "outputs": [],
      "source": [
        "import spacy\n",
        "from spacy.lang.en.stop_words import STOP_WORDS\n",
        "from string import punctuation"
      ]
    },
    {
      "cell_type": "code",
      "source": [
        "text = '''Jammu and Kashmir: Indian Army and Jammu and Kashmir police on Friday recovered a Chinese M 16 (9mm) rifle in an operation from Pakistani terrorists in the Uri sector near the line of control. This is for the first time that the Army has recovered Chinese ammunition. Army says it’s a unique recovery we will investigate it more. The Indian army along with Jammu and Kashmir Police carried out an operation in the Uri sector where three terrorists belonging to Pakistan were killed near the Line of Control while they were trying to infiltrate the Indian side. The army called it an unusual recovery as mostly the terrorists carry AK series rifles or M 4 Series American rifles.\n",
        "“M 16- Chinese rifle is an unusual recovery and this rifle is a 9mm calibre weapon and it will be speculative to say anything further on it, till we check the past records,” said GoC 19 Div, Ajay Chandpuria, Indian Army.The operation was carried out for more than 24 hours. Arms and ammunition including 02 AK-47 Rifles, 01 Chinese Rifle M-16 (9mm), 07 AK-47 Magazines, 192 rounds AK-47, 02 M-16 (9mm) Magazines, 30 rounds 9mm, 01 Bag with Pakistani marking, 03 Ammunition Pouches, 04 Cigarettes Packets, 11 Apples and Dry fruits etc have been recovered from the site of encounter.\n",
        "“We had credible inputs about the terrorist movement in the area. Certain ambush parties were deployed, and we extended the ambush during the day that is yesterday, at around 7 am there a movement was observed at the Line of control and at around 8:30 we came in contact with the terrorists who had infiltrated and in a short firefight all three terrorists were killed. Arms and ammunition were recovered from them. The area is steep, and the weather was bad, so it took time to carry out the search operation,” said GoC 19 Div, Ajay Chandpuria, Indian Army.\n",
        "The Indian army is continuing the search operation in the area. And security forces have reported that around 120-140 terrorists are waiting at the launch pads to cross over to Indian territory.'''"
      ],
      "metadata": {
        "id": "bjnocVN1kyUD"
      },
      "execution_count": null,
      "outputs": []
    },
    {
      "cell_type": "code",
      "source": [
        "stopwords = list(STOP_WORDS)\n",
        "stopwords"
      ],
      "metadata": {
        "id": "HXU2fsmYmJWq"
      },
      "execution_count": null,
      "outputs": []
    },
    {
      "cell_type": "code",
      "source": [
        "nlp = spacy.load('en_core_web_sm')"
      ],
      "metadata": {
        "id": "H0Bt17fPmZku"
      },
      "execution_count": null,
      "outputs": []
    },
    {
      "cell_type": "code",
      "source": [
        "doc = nlp(text)"
      ],
      "metadata": {
        "id": "k3hm256-m32A"
      },
      "execution_count": null,
      "outputs": []
    },
    {
      "cell_type": "code",
      "source": [
        "tokens = [token.text for token in doc]\n",
        "print(tokens)"
      ],
      "metadata": {
        "colab": {
          "base_uri": "https://localhost:8080/"
        },
        "id": "NU7SqOZ0m7UF",
        "outputId": "87896afb-96c7-4295-89c4-b10fc75caa12"
      },
      "execution_count": null,
      "outputs": [
        {
          "output_type": "stream",
          "name": "stdout",
          "text": [
            "['Jammu', 'and', 'Kashmir', ':', 'Indian', 'Army', 'and', 'Jammu', 'and', 'Kashmir', 'police', 'on', 'Friday', 'recovered', 'a', 'Chinese', 'M', '16', '(', '9', 'mm', ')', 'rifle', 'in', 'an', 'operation', 'from', 'Pakistani', 'terrorists', 'in', 'the', 'Uri', 'sector', 'near', 'the', 'line', 'of', 'control', '.', 'This', 'is', 'for', 'the', 'first', 'time', 'that', 'the', 'Army', 'has', 'recovered', 'Chinese', 'ammunition', '.', 'Army', 'says', 'it', '’s', 'a', 'unique', 'recovery', 'we', 'will', 'investigate', 'it', 'more', '.', 'The', 'Indian', 'army', 'along', 'with', 'Jammu', 'and', 'Kashmir', 'Police', 'carried', 'out', 'an', 'operation', 'in', 'the', 'Uri', 'sector', 'where', 'three', 'terrorists', 'belonging', 'to', 'Pakistan', 'were', 'killed', 'near', 'the', 'Line', 'of', 'Control', 'while', 'they', 'were', 'trying', 'to', 'infiltrate', 'the', 'Indian', 'side', '.', 'The', 'army', 'called', 'it', 'an', 'unusual', 'recovery', 'as', 'mostly', 'the', 'terrorists', 'carry', 'AK', 'series', 'rifles', 'or', 'M', '4', 'Series', 'American', 'rifles', '.', '\\n', '“', 'M', '16-', 'Chinese', 'rifle', 'is', 'an', 'unusual', 'recovery', 'and', 'this', 'rifle', 'is', 'a', '9', 'mm', 'calibre', 'weapon', 'and', 'it', 'will', 'be', 'speculative', 'to', 'say', 'anything', 'further', 'on', 'it', ',', 'till', 'we', 'check', 'the', 'past', 'records', ',', '”', 'said', 'GoC', '19', 'Div', ',', 'Ajay', 'Chandpuria', ',', 'Indian', 'Army', '.', 'The', 'operation', 'was', 'carried', 'out', 'for', 'more', 'than', '24', 'hours', '.', 'Arms', 'and', 'ammunition', 'including', '02', 'AK-47', 'Rifles', ',', '01', 'Chinese', 'Rifle', 'M-16', '(', '9', 'mm', ')', ',', '07', 'AK-47', 'Magazines', ',', '192', 'rounds', 'AK-47', ',', '02', 'M-16', '(', '9', 'mm', ')', 'Magazines', ',', '30', 'rounds', '9', 'mm', ',', '01', 'Bag', 'with', 'Pakistani', 'marking', ',', '03', 'Ammunition', 'Pouches', ',', '04', 'Cigarettes', 'Packets', ',', '11', 'Apples', 'and', 'Dry', 'fruits', 'etc', 'have', 'been', 'recovered', 'from', 'the', 'site', 'of', 'encounter', '.', '\\n', '“', 'We', 'had', 'credible', 'inputs', 'about', 'the', 'terrorist', 'movement', 'in', 'the', 'area', '.', 'Certain', 'ambush', 'parties', 'were', 'deployed', ',', 'and', 'we', 'extended', 'the', 'ambush', 'during', 'the', 'day', 'that', 'is', 'yesterday', ',', 'at', 'around', '7', 'am', 'there', 'a', 'movement', 'was', 'observed', 'at', 'the', 'Line', 'of', 'control', 'and', 'at', 'around', '8:30', 'we', 'came', 'in', 'contact', 'with', 'the', 'terrorists', 'who', 'had', 'infiltrated', 'and', 'in', 'a', 'short', 'firefight', 'all', 'three', 'terrorists', 'were', 'killed', '.', 'Arms', 'and', 'ammunition', 'were', 'recovered', 'from', 'them', '.', 'The', 'area', 'is', 'steep', ',', 'and', 'the', 'weather', 'was', 'bad', ',', 'so', 'it', 'took', 'time', 'to', 'carry', 'out', 'the', 'search', 'operation', ',', '”', 'said', 'GoC', '19', 'Div', ',', 'Ajay', 'Chandpuria', ',', 'Indian', 'Army', '.', '\\n', 'The', 'Indian', 'army', 'is', 'continuing', 'the', 'search', 'operation', 'in', 'the', 'area', '.', 'And', 'security', 'forces', 'have', 'reported', 'that', 'around', '120', '-', '140', 'terrorists', 'are', 'waiting', 'at', 'the', 'launch', 'pads', 'to', 'cross', 'over', 'to', 'Indian', 'territory', '.']\n"
          ]
        }
      ]
    },
    {
      "cell_type": "code",
      "source": [
        "punctuation = punctuation + '\\n'\n",
        "punctuation"
      ],
      "metadata": {
        "colab": {
          "base_uri": "https://localhost:8080/",
          "height": 35
        },
        "id": "6QlyF5munEVi",
        "outputId": "660f6088-eb4d-4f8e-9859-8846dac61ffc"
      },
      "execution_count": null,
      "outputs": [
        {
          "output_type": "execute_result",
          "data": {
            "text/plain": [
              "'!\"#$%&\\'()*+,-./:;<=>?@[\\\\]^_`{|}~\\n\\n'"
            ],
            "application/vnd.google.colaboratory.intrinsic+json": {
              "type": "string"
            }
          },
          "metadata": {},
          "execution_count": 33
        }
      ]
    },
    {
      "cell_type": "code",
      "source": [
        "word_frequencies = {}\n",
        "\n",
        "for word in doc:\n",
        "  if word.text.lower() not in stopwords:\n",
        "    if word.text.lower() not in punctuation:\n",
        "      if word.text not in word_frequencies.keys():\n",
        "        word_frequencies[word.text] = 1\n",
        "      else:\n",
        "        word_frequencies[word.text] += 1\n"
      ],
      "metadata": {
        "id": "XwAKkUL_nLlD"
      },
      "execution_count": null,
      "outputs": []
    },
    {
      "cell_type": "code",
      "source": [
        "word_frequencies"
      ],
      "metadata": {
        "colab": {
          "base_uri": "https://localhost:8080/"
        },
        "id": "q0TEobjqndKR",
        "outputId": "88859434-d562-4ce7-e955-8c0cd6d3f4cf"
      },
      "execution_count": null,
      "outputs": [
        {
          "output_type": "execute_result",
          "data": {
            "text/plain": [
              "{'Jammu': 3,\n",
              " 'Kashmir': 3,\n",
              " 'Indian': 7,\n",
              " 'Army': 5,\n",
              " 'police': 1,\n",
              " 'Friday': 1,\n",
              " 'recovered': 4,\n",
              " 'Chinese': 4,\n",
              " 'M': 3,\n",
              " '16': 1,\n",
              " '9': 5,\n",
              " 'mm': 5,\n",
              " 'rifle': 3,\n",
              " 'operation': 5,\n",
              " 'Pakistani': 2,\n",
              " 'terrorists': 6,\n",
              " 'Uri': 2,\n",
              " 'sector': 2,\n",
              " 'near': 2,\n",
              " 'line': 1,\n",
              " 'control': 2,\n",
              " 'time': 2,\n",
              " 'ammunition': 3,\n",
              " 'says': 1,\n",
              " 'unique': 1,\n",
              " 'recovery': 3,\n",
              " 'investigate': 1,\n",
              " 'army': 3,\n",
              " 'Police': 1,\n",
              " 'carried': 2,\n",
              " 'belonging': 1,\n",
              " 'Pakistan': 1,\n",
              " 'killed': 2,\n",
              " 'Line': 2,\n",
              " 'Control': 1,\n",
              " 'trying': 1,\n",
              " 'infiltrate': 1,\n",
              " 'called': 1,\n",
              " 'unusual': 2,\n",
              " 'carry': 2,\n",
              " 'AK': 1,\n",
              " 'series': 1,\n",
              " 'rifles': 2,\n",
              " '4': 1,\n",
              " 'Series': 1,\n",
              " 'American': 1,\n",
              " '“': 2,\n",
              " '16-': 1,\n",
              " 'calibre': 1,\n",
              " 'weapon': 1,\n",
              " 'speculative': 1,\n",
              " 'till': 1,\n",
              " 'check': 1,\n",
              " 'past': 1,\n",
              " 'records': 1,\n",
              " '”': 2,\n",
              " 'said': 2,\n",
              " 'GoC': 2,\n",
              " '19': 2,\n",
              " 'Div': 2,\n",
              " 'Ajay': 2,\n",
              " 'Chandpuria': 2,\n",
              " '24': 1,\n",
              " 'hours': 1,\n",
              " 'Arms': 2,\n",
              " 'including': 1,\n",
              " '02': 2,\n",
              " 'AK-47': 3,\n",
              " 'Rifles': 1,\n",
              " '01': 2,\n",
              " 'Rifle': 1,\n",
              " 'M-16': 2,\n",
              " '07': 1,\n",
              " 'Magazines': 2,\n",
              " '192': 1,\n",
              " 'rounds': 2,\n",
              " '30': 1,\n",
              " 'Bag': 1,\n",
              " 'marking': 1,\n",
              " '03': 1,\n",
              " 'Ammunition': 1,\n",
              " 'Pouches': 1,\n",
              " '04': 1,\n",
              " 'Cigarettes': 1,\n",
              " 'Packets': 1,\n",
              " '11': 1,\n",
              " 'Apples': 1,\n",
              " 'Dry': 1,\n",
              " 'fruits': 1,\n",
              " 'etc': 1,\n",
              " 'site': 1,\n",
              " 'encounter': 1,\n",
              " 'credible': 1,\n",
              " 'inputs': 1,\n",
              " 'terrorist': 1,\n",
              " 'movement': 2,\n",
              " 'area': 3,\n",
              " 'Certain': 1,\n",
              " 'ambush': 2,\n",
              " 'parties': 1,\n",
              " 'deployed': 1,\n",
              " 'extended': 1,\n",
              " 'day': 1,\n",
              " 'yesterday': 1,\n",
              " '7': 1,\n",
              " 'observed': 1,\n",
              " '8:30': 1,\n",
              " 'came': 1,\n",
              " 'contact': 1,\n",
              " 'infiltrated': 1,\n",
              " 'short': 1,\n",
              " 'firefight': 1,\n",
              " 'steep': 1,\n",
              " 'weather': 1,\n",
              " 'bad': 1,\n",
              " 'took': 1,\n",
              " 'search': 2,\n",
              " 'continuing': 1,\n",
              " 'security': 1,\n",
              " 'forces': 1,\n",
              " 'reported': 1,\n",
              " '120': 1,\n",
              " '140': 1,\n",
              " 'waiting': 1,\n",
              " 'launch': 1,\n",
              " 'pads': 1,\n",
              " 'cross': 1,\n",
              " 'territory': 1}"
            ]
          },
          "metadata": {},
          "execution_count": 57
        }
      ]
    },
    {
      "cell_type": "code",
      "source": [
        "max_frequency = max(word_frequencies.values())\n",
        "max_frequency"
      ],
      "metadata": {
        "colab": {
          "base_uri": "https://localhost:8080/"
        },
        "id": "IocKbp_BnjIC",
        "outputId": "196248a4-eda6-4380-bb3a-70a9b56815e8"
      },
      "execution_count": null,
      "outputs": [
        {
          "output_type": "execute_result",
          "data": {
            "text/plain": [
              "7"
            ]
          },
          "metadata": {},
          "execution_count": 58
        }
      ]
    },
    {
      "cell_type": "code",
      "source": [
        "for word in word_frequencies.keys():\n",
        "  word_frequencies[word] = word_frequencies[word]/max_frequency"
      ],
      "metadata": {
        "id": "cLiMW4clod_V"
      },
      "execution_count": null,
      "outputs": []
    },
    {
      "cell_type": "code",
      "source": [
        "print(word_frequencies)"
      ],
      "metadata": {
        "colab": {
          "base_uri": "https://localhost:8080/"
        },
        "id": "BI5ByGtdoeCM",
        "outputId": "835b1b98-3e32-41f7-c61c-1b8ea1e9360d"
      },
      "execution_count": null,
      "outputs": [
        {
          "output_type": "stream",
          "name": "stdout",
          "text": [
            "{'Jammu': 0.42857142857142855, 'Kashmir': 0.42857142857142855, 'Indian': 1.0, 'Army': 0.7142857142857143, 'police': 0.14285714285714285, 'Friday': 0.14285714285714285, 'recovered': 0.5714285714285714, 'Chinese': 0.5714285714285714, 'M': 0.42857142857142855, '16': 0.14285714285714285, '9': 0.7142857142857143, 'mm': 0.7142857142857143, 'rifle': 0.42857142857142855, 'operation': 0.7142857142857143, 'Pakistani': 0.2857142857142857, 'terrorists': 0.8571428571428571, 'Uri': 0.2857142857142857, 'sector': 0.2857142857142857, 'near': 0.2857142857142857, 'line': 0.14285714285714285, 'control': 0.2857142857142857, 'time': 0.2857142857142857, 'ammunition': 0.42857142857142855, 'says': 0.14285714285714285, 'unique': 0.14285714285714285, 'recovery': 0.42857142857142855, 'investigate': 0.14285714285714285, 'army': 0.42857142857142855, 'Police': 0.14285714285714285, 'carried': 0.2857142857142857, 'belonging': 0.14285714285714285, 'Pakistan': 0.14285714285714285, 'killed': 0.2857142857142857, 'Line': 0.2857142857142857, 'Control': 0.14285714285714285, 'trying': 0.14285714285714285, 'infiltrate': 0.14285714285714285, 'called': 0.14285714285714285, 'unusual': 0.2857142857142857, 'carry': 0.2857142857142857, 'AK': 0.14285714285714285, 'series': 0.14285714285714285, 'rifles': 0.2857142857142857, '4': 0.14285714285714285, 'Series': 0.14285714285714285, 'American': 0.14285714285714285, '“': 0.2857142857142857, '16-': 0.14285714285714285, 'calibre': 0.14285714285714285, 'weapon': 0.14285714285714285, 'speculative': 0.14285714285714285, 'till': 0.14285714285714285, 'check': 0.14285714285714285, 'past': 0.14285714285714285, 'records': 0.14285714285714285, '”': 0.2857142857142857, 'said': 0.2857142857142857, 'GoC': 0.2857142857142857, '19': 0.2857142857142857, 'Div': 0.2857142857142857, 'Ajay': 0.2857142857142857, 'Chandpuria': 0.2857142857142857, '24': 0.14285714285714285, 'hours': 0.14285714285714285, 'Arms': 0.2857142857142857, 'including': 0.14285714285714285, '02': 0.2857142857142857, 'AK-47': 0.42857142857142855, 'Rifles': 0.14285714285714285, '01': 0.2857142857142857, 'Rifle': 0.14285714285714285, 'M-16': 0.2857142857142857, '07': 0.14285714285714285, 'Magazines': 0.2857142857142857, '192': 0.14285714285714285, 'rounds': 0.2857142857142857, '30': 0.14285714285714285, 'Bag': 0.14285714285714285, 'marking': 0.14285714285714285, '03': 0.14285714285714285, 'Ammunition': 0.14285714285714285, 'Pouches': 0.14285714285714285, '04': 0.14285714285714285, 'Cigarettes': 0.14285714285714285, 'Packets': 0.14285714285714285, '11': 0.14285714285714285, 'Apples': 0.14285714285714285, 'Dry': 0.14285714285714285, 'fruits': 0.14285714285714285, 'etc': 0.14285714285714285, 'site': 0.14285714285714285, 'encounter': 0.14285714285714285, 'credible': 0.14285714285714285, 'inputs': 0.14285714285714285, 'terrorist': 0.14285714285714285, 'movement': 0.2857142857142857, 'area': 0.42857142857142855, 'Certain': 0.14285714285714285, 'ambush': 0.2857142857142857, 'parties': 0.14285714285714285, 'deployed': 0.14285714285714285, 'extended': 0.14285714285714285, 'day': 0.14285714285714285, 'yesterday': 0.14285714285714285, '7': 0.14285714285714285, 'observed': 0.14285714285714285, '8:30': 0.14285714285714285, 'came': 0.14285714285714285, 'contact': 0.14285714285714285, 'infiltrated': 0.14285714285714285, 'short': 0.14285714285714285, 'firefight': 0.14285714285714285, 'steep': 0.14285714285714285, 'weather': 0.14285714285714285, 'bad': 0.14285714285714285, 'took': 0.14285714285714285, 'search': 0.2857142857142857, 'continuing': 0.14285714285714285, 'security': 0.14285714285714285, 'forces': 0.14285714285714285, 'reported': 0.14285714285714285, '120': 0.14285714285714285, '140': 0.14285714285714285, 'waiting': 0.14285714285714285, 'launch': 0.14285714285714285, 'pads': 0.14285714285714285, 'cross': 0.14285714285714285, 'territory': 0.14285714285714285}\n"
          ]
        }
      ]
    },
    {
      "cell_type": "code",
      "source": [
        "sentence_tokens = [sent for sent in doc.sents]\n",
        "print(sentence_tokens)"
      ],
      "metadata": {
        "colab": {
          "base_uri": "https://localhost:8080/"
        },
        "id": "N5b63vHOo5G6",
        "outputId": "64495e38-7406-49ba-84c0-cb71aab99259"
      },
      "execution_count": null,
      "outputs": [
        {
          "output_type": "stream",
          "name": "stdout",
          "text": [
            "[Jammu and Kashmir: Indian Army and Jammu and Kashmir police on Friday recovered a Chinese M 16 (9mm) rifle in an operation from Pakistani terrorists in the Uri sector near the line of control., This is for the first time that the Army has recovered Chinese ammunition., Army says it’s a unique recovery we will investigate it more., The Indian army along with Jammu and Kashmir Police carried out an operation in the Uri sector where three terrorists belonging to Pakistan were killed near the Line of Control while they were trying to infiltrate the Indian side., The army called it an unusual recovery as mostly the terrorists carry AK series rifles or M 4 Series American rifles.\n",
            ", “M 16- Chinese rifle is an unusual recovery and this rifle is a 9mm calibre weapon and it will be speculative to say anything further on it, till we check the past records,” said GoC 19 Div, Ajay Chandpuria, Indian Army., The operation was carried out for more than 24 hours., Arms and ammunition including 02 AK-47 Rifles, 01 Chinese Rifle M-16 (9mm), 07 AK-47 Magazines, 192 rounds AK-47, 02 M-16 (9mm) Magazines, 30 rounds 9mm, 01 Bag with Pakistani marking, 03 Ammunition Pouches, 04 Cigarettes Packets, 11 Apples and Dry fruits etc have been recovered from the site of encounter.\n",
            ", “We had credible inputs about the terrorist movement in the area., Certain ambush parties were deployed, and we extended the ambush during the day that is yesterday, at around 7 am there a movement was observed at the Line of control and at around 8:30 we came in contact with the terrorists who had infiltrated and in a short firefight all three terrorists were killed., Arms and ammunition were recovered from them., The area is steep, and the weather was bad, so it took time to carry out the search operation,” said GoC 19 Div, Ajay Chandpuria, Indian Army.\n",
            ", The Indian army is continuing the search operation in the area., And security forces have reported that around 120-140 terrorists are waiting at the launch pads to cross over to Indian territory.]\n"
          ]
        }
      ]
    },
    {
      "cell_type": "code",
      "source": [
        "sentence_score = {}\n",
        "\n",
        "for sent in sentence_tokens:\n",
        "  for word in sent:\n",
        "    if word.text.lower() in word_frequencies.keys():\n",
        "      if sent not in sentence_score.keys():\n",
        "        sentence_score[sent] = word_frequencies[word.text.lower()]\n",
        "      else:\n",
        "        sentence_score[sent] += word_frequencies[word.text.lower()]"
      ],
      "metadata": {
        "id": "4mvLpDHxoeFa"
      },
      "execution_count": null,
      "outputs": []
    },
    {
      "cell_type": "code",
      "source": [
        "sentence_score"
      ],
      "metadata": {
        "colab": {
          "base_uri": "https://localhost:8080/"
        },
        "id": "OB3cLAkvptDq",
        "outputId": "a37f3997-f76f-4afa-d407-4a8bfeb0aded"
      },
      "execution_count": null,
      "outputs": [
        {
          "output_type": "execute_result",
          "data": {
            "text/plain": [
              "{Jammu and Kashmir: Indian Army and Jammu and Kashmir police on Friday recovered a Chinese M 16 (9mm) rifle in an operation from Pakistani terrorists in the Uri sector near the line of control.: 5.714285714285714,\n",
              " This is for the first time that the Army has recovered Chinese ammunition.: 1.7142857142857142,\n",
              " Army says it’s a unique recovery we will investigate it more.: 1.2857142857142856,\n",
              " The Indian army along with Jammu and Kashmir Police carried out an operation in the Uri sector where three terrorists belonging to Pakistan were killed near the Line of Control while they were trying to infiltrate the Indian side.: 4.142857142857142,\n",
              " The army called it an unusual recovery as mostly the terrorists carry AK series rifles or M 4 Series American rifles.: 3.428571428571428,\n",
              " “M 16- Chinese rifle is an unusual recovery and this rifle is a 9mm calibre weapon and it will be speculative to say anything further on it, till we check the past records,” said GoC 19 Div, Ajay Chandpuria, Indian Army.: 5.714285714285715,\n",
              " The operation was carried out for more than 24 hours.: 1.2857142857142856,\n",
              " Arms and ammunition including 02 AK-47 Rifles, 01 Chinese Rifle M-16 (9mm), 07 AK-47 Magazines, 192 rounds AK-47, 02 M-16 (9mm) Magazines, 30 rounds 9mm, 01 Bag with Pakistani marking, 03 Ammunition Pouches, 04 Cigarettes Packets, 11 Apples and Dry fruits etc have been recovered from the site of encounter.: 9.857142857142854,\n",
              " “We had credible inputs about the terrorist movement in the area.: 1.4285714285714284,\n",
              " Certain ambush parties were deployed, and we extended the ambush during the day that is yesterday, at around 7 am there a movement was observed at the Line of control and at around 8:30 we came in contact with the terrorists who had infiltrated and in a short firefight all three terrorists were killed.: 5.1428571428571415,\n",
              " Arms and ammunition were recovered from them.: 1.0,\n",
              " The area is steep, and the weather was bad, so it took time to carry out the search operation,” said GoC 19 Div, Ajay Chandpuria, Indian Army.: 3.8571428571428563,\n",
              " The Indian army is continuing the search operation in the area.: 2.0,\n",
              " And security forces have reported that around 120-140 terrorists are waiting at the launch pads to cross over to Indian territory.: 2.285714285714285}"
            ]
          },
          "metadata": {},
          "execution_count": 63
        }
      ]
    },
    {
      "cell_type": "code",
      "source": [
        "from heapq import nlargest"
      ],
      "metadata": {
        "id": "KyE1FVo7pv7w"
      },
      "execution_count": null,
      "outputs": []
    },
    {
      "cell_type": "code",
      "source": [
        "select_length = int(len(sentence_tokens)*0.1)\n",
        "select_length"
      ],
      "metadata": {
        "colab": {
          "base_uri": "https://localhost:8080/"
        },
        "id": "XkkmG88op0YC",
        "outputId": "57cfb307-6907-4f88-b916-a4bcce96342e"
      },
      "execution_count": null,
      "outputs": [
        {
          "output_type": "execute_result",
          "data": {
            "text/plain": [
              "1"
            ]
          },
          "metadata": {},
          "execution_count": 81
        }
      ]
    },
    {
      "cell_type": "code",
      "source": [
        "summary = nlargest(select_length, sentence_score, key=sentence_score.get)"
      ],
      "metadata": {
        "id": "5cJxv-5OqDU6"
      },
      "execution_count": null,
      "outputs": []
    },
    {
      "cell_type": "code",
      "source": [
        "summary"
      ],
      "metadata": {
        "colab": {
          "base_uri": "https://localhost:8080/"
        },
        "id": "W13fB1cBqUMb",
        "outputId": "3e914232-b450-4979-e9d6-8ecc5f7de108"
      },
      "execution_count": null,
      "outputs": [
        {
          "output_type": "execute_result",
          "data": {
            "text/plain": [
              "[Arms and ammunition including 02 AK-47 Rifles, 01 Chinese Rifle M-16 (9mm), 07 AK-47 Magazines, 192 rounds AK-47, 02 M-16 (9mm) Magazines, 30 rounds 9mm, 01 Bag with Pakistani marking, 03 Ammunition Pouches, 04 Cigarettes Packets, 11 Apples and Dry fruits etc have been recovered from the site of encounter.]"
            ]
          },
          "metadata": {},
          "execution_count": 83
        }
      ]
    },
    {
      "cell_type": "code",
      "source": [
        "final_summary = [word.text for word in summary]"
      ],
      "metadata": {
        "id": "Qq72_M09rqCV"
      },
      "execution_count": null,
      "outputs": []
    },
    {
      "cell_type": "code",
      "source": [
        "summary2 = ' '.join(final_summary)"
      ],
      "metadata": {
        "id": "MxbdWlb_rxKb"
      },
      "execution_count": null,
      "outputs": []
    },
    {
      "cell_type": "code",
      "source": [
        "print(summary2)"
      ],
      "metadata": {
        "colab": {
          "base_uri": "https://localhost:8080/"
        },
        "id": "hoyHQVlCr3jB",
        "outputId": "a52dbbc2-f68b-44a7-b8fc-a53f0251bb2c"
      },
      "execution_count": null,
      "outputs": [
        {
          "output_type": "stream",
          "name": "stdout",
          "text": [
            "Arms and ammunition including 02 AK-47 Rifles, 01 Chinese Rifle M-16 (9mm), 07 AK-47 Magazines, 192 rounds AK-47, 02 M-16 (9mm) Magazines, 30 rounds 9mm, 01 Bag with Pakistani marking, 03 Ammunition Pouches, 04 Cigarettes Packets, 11 Apples and Dry fruits etc have been recovered from the site of encounter.\n",
            "\n"
          ]
        }
      ]
    }
  ]
}