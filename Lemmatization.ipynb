{
 "cells": [
  {
   "cell_type": "code",
   "execution_count": 1,
   "metadata": {
    "id": "KmF9xaU_lO5S"
   },
   "outputs": [],
   "source": [
    "#Importing library\n",
    "import spacy\n",
    "nlp = spacy.load('en_core_web_sm')"
   ]
  },
  {
   "cell_type": "code",
   "execution_count": 2,
   "metadata": {
    "id": "eFi5fNRblbsD"
   },
   "outputs": [],
   "source": [
    "#Creating text\n",
    "text = nlp(u\"John Adam is one the researcher who invent the direction of way towards success!\")"
   ]
  },
  {
   "cell_type": "code",
   "execution_count": 15,
   "metadata": {
    "colab": {
     "base_uri": "https://localhost:8080/"
    },
    "id": "4Jgmw425lujw",
    "outputId": "6d86e926-7ff0-481b-e101-ca7ef52c917d"
   },
   "outputs": [
    {
     "name": "stdout",
     "output_type": "stream",
     "text": [
      "John \t PROPN \t 11174346320140919546 \t John\n",
      "Adam \t PROPN \t 14264057329400597350 \t Adam\n",
      "is \t AUX \t 10382539506755952630 \t be\n",
      "one \t NOUN \t 17454115351911680600 \t one\n",
      "the \t DET \t 7425985699627899538 \t the\n",
      "researcher \t NOUN \t 1317581537614213870 \t researcher\n",
      "who \t PRON \t 3876862883474502309 \t who\n",
      "invent \t VERB \t 5373681334090504585 \t invent\n",
      "the \t DET \t 7425985699627899538 \t the\n",
      "direction \t NOUN \t 895834437038626927 \t direction\n",
      "of \t ADP \t 886050111519832510 \t of\n",
      "way \t NOUN \t 6878210874361030284 \t way\n",
      "towards \t ADP \t 9315050841437086371 \t towards\n",
      "success \t NOUN \t 16089821935113899987 \t success\n",
      "! \t PUNCT \t 17494803046312582752 \t !\n",
      "------------------------------------------------------------------\n",
      "John         PROPN  11174346320140919546   John\n",
      "Adam         PROPN  14264057329400597350   Adam\n",
      "is           AUX    10382539506755952630   be\n",
      "one          NOUN   17454115351911680600   one\n",
      "the          DET    7425985699627899538    the\n",
      "researcher   NOUN   1317581537614213870    researcher\n",
      "who          PRON   3876862883474502309    who\n",
      "invent       VERB   5373681334090504585    invent\n",
      "the          DET    7425985699627899538    the\n",
      "direction    NOUN   895834437038626927     direction\n",
      "of           ADP    886050111519832510     of\n",
      "way          NOUN   6878210874361030284    way\n",
      "towards      ADP    9315050841437086371    towards\n",
      "success      NOUN   16089821935113899987   success\n",
      "!            PUNCT  17494803046312582752   !\n"
     ]
    }
   ],
   "source": [
    "#Creating lemmatization on the given text\n",
    "for i in text:\n",
    "  print(i.text, '\\t', i.pos_, '\\t', i.lemma, '\\t', i.lemma_)\n",
    "\n",
    "print('------------------------------------------------------------------')\n",
    "\n",
    "for i in text:\n",
    "  print(f'{i.text:{12}} {i.pos_:{6}} {i.lemma:<{22}} {i.lemma_}')"
   ]
  },
  {
   "cell_type": "code",
   "execution_count": 11,
   "metadata": {
    "id": "tAC6TyrKmK5d"
   },
   "outputs": [],
   "source": [
    "#Creating lemmatization function\n",
    "def show_lemmas(text):\n",
    "  for token in text:\n",
    "    print(f'{token.text:{12}} {token.pos_:{6}} {token.lemma:<{22}}{token.lemma_}')"
   ]
  },
  {
   "cell_type": "code",
   "execution_count": 12,
   "metadata": {
    "colab": {
     "base_uri": "https://localhost:8080/"
    },
    "id": "9j7mdMDxoMli",
    "outputId": "001472e2-2b75-4030-c25c-cef60b60a426"
   },
   "outputs": [
    {
     "name": "stdout",
     "output_type": "stream",
     "text": [
      "John         PROPN  11174346320140919546  John\n",
      "Adam         PROPN  14264057329400597350  Adam\n",
      "is           AUX    10382539506755952630  be\n",
      "one          NOUN   17454115351911680600  one\n",
      "the          DET    7425985699627899538   the\n",
      "researcher   NOUN   1317581537614213870   researcher\n",
      "who          PRON   3876862883474502309   who\n",
      "invent       VERB   5373681334090504585   invent\n",
      "the          DET    7425985699627899538   the\n",
      "direction    NOUN   895834437038626927    direction\n",
      "of           ADP    886050111519832510    of\n",
      "way          NOUN   6878210874361030284   way\n",
      "towards      ADP    9315050841437086371   towards\n",
      "success      NOUN   16089821935113899987  success\n",
      "!            PUNCT  17494803046312582752  !\n"
     ]
    }
   ],
   "source": [
    "#Extracting limmatization information\n",
    "show_lemmas(text)"
   ]
  },
  {
   "cell_type": "code",
   "execution_count": 16,
   "metadata": {
    "colab": {
     "base_uri": "https://localhost:8080/"
    },
    "id": "raKz4ZlxoeoQ",
    "outputId": "0b6ff086-4f44-4c08-bb28-6ae709dcd868"
   },
   "outputs": [
    {
     "name": "stdout",
     "output_type": "stream",
     "text": [
      "That         DET    4380130941430378203   that\n",
      "is           AUX    10382539506755952630  be\n",
      "of           ADP    886050111519832510    of\n",
      "the          DET    7425985699627899538   the\n",
      "greater      ADJ    8881679497796027013   great\n",
      "person       NOUN   14800503047316267216  person\n",
      "in           ADP    3002984154512732771   in\n",
      "the          DET    7425985699627899538   the\n",
      "world        NOUN   1703489418272052182   world\n"
     ]
    }
   ],
   "source": [
    "  #Extracting limmatization information\n",
    "  text1 = nlp(u'That is of the greater person in the world')\n",
    "  show_lemmas(text1)"
   ]
  },
  {
   "cell_type": "code",
   "execution_count": null,
   "metadata": {
    "id": "TyZJyfnRp7Kd"
   },
   "outputs": [],
   "source": []
  }
 ],
 "metadata": {
  "colab": {
   "collapsed_sections": [],
   "name": "Lemmatization.ipynb",
   "provenance": []
  },
  "kernelspec": {
   "display_name": "Python 3",
   "language": "python",
   "name": "python3"
  },
  "language_info": {
   "codemirror_mode": {
    "name": "ipython",
    "version": 3
   },
   "file_extension": ".py",
   "mimetype": "text/x-python",
   "name": "python",
   "nbconvert_exporter": "python",
   "pygments_lexer": "ipython3",
   "version": "3.8.6"
  },
  "toc": {
   "base_numbering": 1,
   "nav_menu": {},
   "number_sections": true,
   "sideBar": true,
   "skip_h1_title": false,
   "title_cell": "Table of Contents",
   "title_sidebar": "Contents",
   "toc_cell": false,
   "toc_position": {},
   "toc_section_display": true,
   "toc_window_display": false
  }
 },
 "nbformat": 4,
 "nbformat_minor": 1
}
