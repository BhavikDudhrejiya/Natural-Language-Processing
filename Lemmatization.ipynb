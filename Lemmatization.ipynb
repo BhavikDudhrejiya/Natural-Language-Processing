{
  "nbformat": 4,
  "nbformat_minor": 0,
  "metadata": {
    "colab": {
      "name": "Lemmatization.ipynb",
      "provenance": [],
      "authorship_tag": "ABX9TyPPHSOhjQRIqf4MtaIyN1ow",
      "include_colab_link": true
    },
    "kernelspec": {
      "name": "python3",
      "display_name": "Python 3"
    },
    "language_info": {
      "name": "python"
    }
  },
  "cells": [
    {
      "cell_type": "markdown",
      "metadata": {
        "id": "view-in-github",
        "colab_type": "text"
      },
      "source": [
        "<a href=\"https://colab.research.google.com/github/BhavikDudhrejiya/Natural-Language-Processing/blob/main/Lemmatization.ipynb\" target=\"_parent\"><img src=\"https://colab.research.google.com/assets/colab-badge.svg\" alt=\"Open In Colab\"/></a>"
      ]
    },
    {
      "cell_type": "code",
      "execution_count": 1,
      "metadata": {
        "id": "aUsV75Bz5aH3"
      },
      "outputs": [],
      "source": [
        "import spacy"
      ]
    },
    {
      "cell_type": "code",
      "source": [
        "nlp = spacy.load('en_core_web_sm')"
      ],
      "metadata": {
        "id": "4t0C5PZ45i5q"
      },
      "execution_count": 2,
      "outputs": []
    },
    {
      "cell_type": "code",
      "source": [
        "set1 = nlp(u\"John Adam is one the researcher who invent the direction of way towards success!\")\n",
        "set2 = nlp(u\"I am meeting him tomorrow at the meeting\")\n",
        "set3 = nlp(u\"That's of the greater person in the world\")"
      ],
      "metadata": {
        "id": "QQ11nUoz5qKK"
      },
      "execution_count": 13,
      "outputs": []
    },
    {
      "cell_type": "code",
      "source": [
        "for token in set1:\n",
        "  print(f'{token.text:{10}}|{token.pos_:{5}}|{token.lemma:{25}}|{token.lemma_:{20}}')"
      ],
      "metadata": {
        "colab": {
          "base_uri": "https://localhost:8080/"
        },
        "id": "kSrtCasy5-YG",
        "outputId": "8e630b25-eb1f-4b7c-cb10-14c3a2f011da"
      },
      "execution_count": 12,
      "outputs": [
        {
          "output_type": "stream",
          "name": "stdout",
          "text": [
            "John      |PROPN|     11174346320140919546|John                \n",
            "Adam      |PROPN|     14264057329400597350|Adam                \n",
            "is        |AUX  |     10382539506755952630|be                  \n",
            "one       |NUM  |     17454115351911680600|one                 \n",
            "the       |DET  |      7425985699627899538|the                 \n",
            "researcher|NOUN |      1317581537614213870|researcher          \n",
            "who       |PRON |      3876862883474502309|who                 \n",
            "invent    |VERB |      5373681334090504585|invent              \n",
            "the       |DET  |      7425985699627899538|the                 \n",
            "direction |NOUN |       895834437038626927|direction           \n",
            "of        |ADP  |       886050111519832510|of                  \n",
            "way       |NOUN |      6878210874361030284|way                 \n",
            "towards   |ADP  |      9315050841437086371|towards             \n",
            "success   |NOUN |     16089821935113899987|success             \n",
            "!         |PUNCT|     17494803046312582752|!                   \n"
          ]
        }
      ]
    },
    {
      "cell_type": "code",
      "source": [
        "for token in set2:\n",
        "  print(f'{token.text:{10}}|{token.pos_:{5}}|{token.lemma:{25}}|{token.lemma_:{20}}')"
      ],
      "metadata": {
        "colab": {
          "base_uri": "https://localhost:8080/"
        },
        "id": "9E4RkOn96HT-",
        "outputId": "74ac577b-8c8c-4aa8-9334-209cb2ec4baf"
      },
      "execution_count": 14,
      "outputs": [
        {
          "output_type": "stream",
          "name": "stdout",
          "text": [
            "I         |PRON |      4690420944186131903|I                   \n",
            "am        |AUX  |     10382539506755952630|be                  \n",
            "meeting   |VERB |      6880656908171229526|meet                \n",
            "him       |PRON |      1655312771067108281|he                  \n",
            "tomorrow  |NOUN |      3573583789758258062|tomorrow            \n",
            "at        |ADP  |     11667289587015813222|at                  \n",
            "the       |DET  |      7425985699627899538|the                 \n",
            "meeting   |NOUN |     14798207169164081740|meeting             \n"
          ]
        }
      ]
    },
    {
      "cell_type": "code",
      "source": [
        "for token in set3:\n",
        "  print(f'{token.text:{10}}|{token.pos_:{5}}|{token.lemma:{25}}|{token.lemma_:{20}}')"
      ],
      "metadata": {
        "colab": {
          "base_uri": "https://localhost:8080/"
        },
        "id": "TFwZbrhN7gRe",
        "outputId": "2c9e6371-39a4-4f1b-c7de-53e3b46d5c9b"
      },
      "execution_count": 15,
      "outputs": [
        {
          "output_type": "stream",
          "name": "stdout",
          "text": [
            "That      |PRON |      4380130941430378203|that                \n",
            "'s        |AUX  |     10382539506755952630|be                  \n",
            "of        |ADP  |       886050111519832510|of                  \n",
            "the       |DET  |      7425985699627899538|the                 \n",
            "greater   |ADJ  |      8881679497796027013|great               \n",
            "person    |NOUN |     14800503047316267216|person              \n",
            "in        |ADP  |      3002984154512732771|in                  \n",
            "the       |DET  |      7425985699627899538|the                 \n",
            "world     |NOUN |      1703489418272052182|world               \n"
          ]
        }
      ]
    }
  ]
}