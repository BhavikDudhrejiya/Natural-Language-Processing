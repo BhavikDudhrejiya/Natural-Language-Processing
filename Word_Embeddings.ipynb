{
  "nbformat": 4,
  "nbformat_minor": 0,
  "metadata": {
    "colab": {
      "name": "Word Embeddings.ipynb",
      "provenance": [],
      "collapsed_sections": [],
      "authorship_tag": "ABX9TyOdKvpiJmxSezprAUYxruOX",
      "include_colab_link": true
    },
    "kernelspec": {
      "name": "python3",
      "display_name": "Python 3"
    },
    "language_info": {
      "name": "python"
    }
  },
  "cells": [
    {
      "cell_type": "markdown",
      "metadata": {
        "id": "view-in-github",
        "colab_type": "text"
      },
      "source": [
        "<a href=\"https://colab.research.google.com/github/BhavikDudhrejiya/Natural-Language-Processing/blob/main/Word_Embeddings.ipynb\" target=\"_parent\"><img src=\"https://colab.research.google.com/assets/colab-badge.svg\" alt=\"Open In Colab\"/></a>"
      ]
    },
    {
      "cell_type": "code",
      "execution_count": 17,
      "metadata": {
        "id": "OfO7jLg6P_F-"
      },
      "outputs": [],
      "source": [
        "#Importing Libraries\n",
        "import numpy as np\n",
        "from tensorflow.keras.preprocessing.text import one_hot\n",
        "from tensorflow.keras.preprocessing.sequence import pad_sequences\n",
        "from tensorflow.keras.models import Sequential\n",
        "from tensorflow.keras.layers import Dense, Flatten, Embedding"
      ]
    },
    {
      "cell_type": "code",
      "source": [
        "#Creating text reviews\n",
        "reviews = ['nice food',\n",
        "           'amazing restaurant',\n",
        "           'too good',\n",
        "           'just loved it',\n",
        "           'will go again',\n",
        "           'horrible food',\n",
        "           'never go there',\n",
        "           'poor service',\n",
        "           'poor quality',\n",
        "           'needs improvement']\n",
        "\n",
        "#Target labels 1 for positive and 0 for negative\n",
        "sentiments = np.array([1,1,1,1,1,0,0,0,0,0])"
      ],
      "metadata": {
        "id": "P2mY7G8GQpAN"
      },
      "execution_count": 18,
      "outputs": []
    },
    {
      "cell_type": "code",
      "source": [
        "#One Hot Encodding the Reviews\n",
        "vocab_size = 30\n",
        "encoded_reviews = [one_hot(i, vocab_size) for i in reviews]\n",
        "encoded_reviews"
      ],
      "metadata": {
        "colab": {
          "base_uri": "https://localhost:8080/"
        },
        "id": "Z8FWLZ9hRUqI",
        "outputId": "924dcded-a14d-4d77-e268-b9c5851605bd"
      },
      "execution_count": 19,
      "outputs": [
        {
          "output_type": "execute_result",
          "data": {
            "text/plain": [
              "[[20, 11],\n",
              " [1, 19],\n",
              " [1, 3],\n",
              " [8, 24, 1],\n",
              " [20, 23, 25],\n",
              " [17, 11],\n",
              " [23, 23, 10],\n",
              " [8, 7],\n",
              " [8, 17],\n",
              " [19, 16]]"
            ]
          },
          "metadata": {},
          "execution_count": 19
        }
      ]
    },
    {
      "cell_type": "code",
      "source": [
        "#Add Padding to encoded vector\n",
        "max_len = 3\n",
        "padded_reviews = pad_sequences(encoded_reviews,\n",
        "                                maxlen=max_len,\n",
        "                                padding='post')\n",
        "padded_reviews"
      ],
      "metadata": {
        "colab": {
          "base_uri": "https://localhost:8080/"
        },
        "id": "dZggHbHpRUuf",
        "outputId": "bff84278-f4ba-4722-d602-4ef6845f09f6"
      },
      "execution_count": 20,
      "outputs": [
        {
          "output_type": "execute_result",
          "data": {
            "text/plain": [
              "array([[20, 11,  0],\n",
              "       [ 1, 19,  0],\n",
              "       [ 1,  3,  0],\n",
              "       [ 8, 24,  1],\n",
              "       [20, 23, 25],\n",
              "       [17, 11,  0],\n",
              "       [23, 23, 10],\n",
              "       [ 8,  7,  0],\n",
              "       [ 8, 17,  0],\n",
              "       [19, 16,  0]], dtype=int32)"
            ]
          },
          "metadata": {},
          "execution_count": 20
        }
      ]
    },
    {
      "cell_type": "code",
      "source": [
        "#X & y split\n",
        "X = padded_reviews\n",
        "y = sentiments"
      ],
      "metadata": {
        "id": "c36Zju8pTUOS"
      },
      "execution_count": 21,
      "outputs": []
    },
    {
      "cell_type": "code",
      "source": [
        "#Creating model\n",
        "embedded_vector_size = 5\n",
        "model = Sequential()\n",
        "model.add(Embedding(vocab_size,\n",
        "                    embedded_vector_size,\n",
        "                    input_length=max_len,\n",
        "                    name='embedding'))\n",
        "model.add(Flatten())\n",
        "model.add(Dense(1, activation='sigmoid'))"
      ],
      "metadata": {
        "id": "-wVzYIfDSOCj"
      },
      "execution_count": 37,
      "outputs": []
    },
    {
      "cell_type": "code",
      "source": [
        "#Compile the model\n",
        "model.compile(optimizer='adam',\n",
        "              loss='binary_crossentropy',\n",
        "              metrics = ['accuracy'])\n",
        "model.summary()"
      ],
      "metadata": {
        "colab": {
          "base_uri": "https://localhost:8080/"
        },
        "id": "ZNoZ_OHvTaS1",
        "outputId": "6d33b280-5dbe-4d2e-eaf6-63135535da90"
      },
      "execution_count": 38,
      "outputs": [
        {
          "output_type": "stream",
          "name": "stdout",
          "text": [
            "Model: \"sequential_3\"\n",
            "_________________________________________________________________\n",
            " Layer (type)                Output Shape              Param #   \n",
            "=================================================================\n",
            " embedding (Embedding)       (None, 3, 5)              150       \n",
            "                                                                 \n",
            " flatten_3 (Flatten)         (None, 15)                0         \n",
            "                                                                 \n",
            " dense_3 (Dense)             (None, 1)                 16        \n",
            "                                                                 \n",
            "=================================================================\n",
            "Total params: 166\n",
            "Trainable params: 166\n",
            "Non-trainable params: 0\n",
            "_________________________________________________________________\n"
          ]
        }
      ]
    },
    {
      "cell_type": "code",
      "source": [
        "#Fit the model on X & y\n",
        "model.fit(X,y,epochs=100, verbose=1)"
      ],
      "metadata": {
        "colab": {
          "base_uri": "https://localhost:8080/"
        },
        "id": "WT49DtmxTmVM",
        "outputId": "daa6d474-7c61-458d-d324-49da989e0ca3"
      },
      "execution_count": 39,
      "outputs": [
        {
          "output_type": "stream",
          "name": "stdout",
          "text": [
            "Epoch 1/100\n",
            "1/1 [==============================] - 0s 303ms/step - loss: 0.6907 - accuracy: 0.6000\n",
            "Epoch 2/100\n",
            "1/1 [==============================] - 0s 5ms/step - loss: 0.6897 - accuracy: 0.6000\n",
            "Epoch 3/100\n",
            "1/1 [==============================] - 0s 5ms/step - loss: 0.6886 - accuracy: 0.7000\n",
            "Epoch 4/100\n",
            "1/1 [==============================] - 0s 5ms/step - loss: 0.6876 - accuracy: 0.7000\n",
            "Epoch 5/100\n",
            "1/1 [==============================] - 0s 5ms/step - loss: 0.6866 - accuracy: 0.7000\n",
            "Epoch 6/100\n",
            "1/1 [==============================] - 0s 5ms/step - loss: 0.6855 - accuracy: 0.8000\n",
            "Epoch 7/100\n",
            "1/1 [==============================] - 0s 5ms/step - loss: 0.6845 - accuracy: 0.8000\n",
            "Epoch 8/100\n",
            "1/1 [==============================] - 0s 5ms/step - loss: 0.6835 - accuracy: 0.8000\n",
            "Epoch 9/100\n",
            "1/1 [==============================] - 0s 10ms/step - loss: 0.6824 - accuracy: 0.8000\n",
            "Epoch 10/100\n",
            "1/1 [==============================] - 0s 8ms/step - loss: 0.6814 - accuracy: 0.9000\n",
            "Epoch 11/100\n",
            "1/1 [==============================] - 0s 6ms/step - loss: 0.6803 - accuracy: 1.0000\n",
            "Epoch 12/100\n",
            "1/1 [==============================] - 0s 4ms/step - loss: 0.6793 - accuracy: 1.0000\n",
            "Epoch 13/100\n",
            "1/1 [==============================] - 0s 4ms/step - loss: 0.6782 - accuracy: 1.0000\n",
            "Epoch 14/100\n",
            "1/1 [==============================] - 0s 4ms/step - loss: 0.6771 - accuracy: 1.0000\n",
            "Epoch 15/100\n",
            "1/1 [==============================] - 0s 4ms/step - loss: 0.6761 - accuracy: 1.0000\n",
            "Epoch 16/100\n",
            "1/1 [==============================] - 0s 4ms/step - loss: 0.6750 - accuracy: 1.0000\n",
            "Epoch 17/100\n",
            "1/1 [==============================] - 0s 4ms/step - loss: 0.6739 - accuracy: 1.0000\n",
            "Epoch 18/100\n",
            "1/1 [==============================] - 0s 4ms/step - loss: 0.6728 - accuracy: 1.0000\n",
            "Epoch 19/100\n",
            "1/1 [==============================] - 0s 4ms/step - loss: 0.6717 - accuracy: 1.0000\n",
            "Epoch 20/100\n",
            "1/1 [==============================] - 0s 4ms/step - loss: 0.6706 - accuracy: 1.0000\n",
            "Epoch 21/100\n",
            "1/1 [==============================] - 0s 4ms/step - loss: 0.6695 - accuracy: 1.0000\n",
            "Epoch 22/100\n",
            "1/1 [==============================] - 0s 4ms/step - loss: 0.6684 - accuracy: 1.0000\n",
            "Epoch 23/100\n",
            "1/1 [==============================] - 0s 3ms/step - loss: 0.6673 - accuracy: 1.0000\n",
            "Epoch 24/100\n",
            "1/1 [==============================] - 0s 4ms/step - loss: 0.6662 - accuracy: 1.0000\n",
            "Epoch 25/100\n",
            "1/1 [==============================] - 0s 4ms/step - loss: 0.6650 - accuracy: 1.0000\n",
            "Epoch 26/100\n",
            "1/1 [==============================] - 0s 4ms/step - loss: 0.6639 - accuracy: 1.0000\n",
            "Epoch 27/100\n",
            "1/1 [==============================] - 0s 4ms/step - loss: 0.6628 - accuracy: 1.0000\n",
            "Epoch 28/100\n",
            "1/1 [==============================] - 0s 4ms/step - loss: 0.6616 - accuracy: 1.0000\n",
            "Epoch 29/100\n",
            "1/1 [==============================] - 0s 4ms/step - loss: 0.6605 - accuracy: 1.0000\n",
            "Epoch 30/100\n",
            "1/1 [==============================] - 0s 4ms/step - loss: 0.6593 - accuracy: 1.0000\n",
            "Epoch 31/100\n",
            "1/1 [==============================] - 0s 4ms/step - loss: 0.6581 - accuracy: 1.0000\n",
            "Epoch 32/100\n",
            "1/1 [==============================] - 0s 4ms/step - loss: 0.6569 - accuracy: 1.0000\n",
            "Epoch 33/100\n",
            "1/1 [==============================] - 0s 5ms/step - loss: 0.6558 - accuracy: 1.0000\n",
            "Epoch 34/100\n",
            "1/1 [==============================] - 0s 4ms/step - loss: 0.6546 - accuracy: 1.0000\n",
            "Epoch 35/100\n",
            "1/1 [==============================] - 0s 4ms/step - loss: 0.6534 - accuracy: 1.0000\n",
            "Epoch 36/100\n",
            "1/1 [==============================] - 0s 4ms/step - loss: 0.6521 - accuracy: 1.0000\n",
            "Epoch 37/100\n",
            "1/1 [==============================] - 0s 4ms/step - loss: 0.6509 - accuracy: 1.0000\n",
            "Epoch 38/100\n",
            "1/1 [==============================] - 0s 4ms/step - loss: 0.6497 - accuracy: 1.0000\n",
            "Epoch 39/100\n",
            "1/1 [==============================] - 0s 4ms/step - loss: 0.6484 - accuracy: 1.0000\n",
            "Epoch 40/100\n",
            "1/1 [==============================] - 0s 4ms/step - loss: 0.6472 - accuracy: 1.0000\n",
            "Epoch 41/100\n",
            "1/1 [==============================] - 0s 4ms/step - loss: 0.6459 - accuracy: 1.0000\n",
            "Epoch 42/100\n",
            "1/1 [==============================] - 0s 4ms/step - loss: 0.6447 - accuracy: 1.0000\n",
            "Epoch 43/100\n",
            "1/1 [==============================] - 0s 4ms/step - loss: 0.6434 - accuracy: 1.0000\n",
            "Epoch 44/100\n",
            "1/1 [==============================] - 0s 4ms/step - loss: 0.6421 - accuracy: 1.0000\n",
            "Epoch 45/100\n",
            "1/1 [==============================] - 0s 8ms/step - loss: 0.6408 - accuracy: 1.0000\n",
            "Epoch 46/100\n",
            "1/1 [==============================] - 0s 4ms/step - loss: 0.6395 - accuracy: 1.0000\n",
            "Epoch 47/100\n",
            "1/1 [==============================] - 0s 4ms/step - loss: 0.6382 - accuracy: 1.0000\n",
            "Epoch 48/100\n",
            "1/1 [==============================] - 0s 4ms/step - loss: 0.6368 - accuracy: 1.0000\n",
            "Epoch 49/100\n",
            "1/1 [==============================] - 0s 4ms/step - loss: 0.6355 - accuracy: 1.0000\n",
            "Epoch 50/100\n",
            "1/1 [==============================] - 0s 4ms/step - loss: 0.6341 - accuracy: 1.0000\n",
            "Epoch 51/100\n",
            "1/1 [==============================] - 0s 4ms/step - loss: 0.6328 - accuracy: 1.0000\n",
            "Epoch 52/100\n",
            "1/1 [==============================] - 0s 4ms/step - loss: 0.6314 - accuracy: 1.0000\n",
            "Epoch 53/100\n",
            "1/1 [==============================] - 0s 4ms/step - loss: 0.6300 - accuracy: 1.0000\n",
            "Epoch 54/100\n",
            "1/1 [==============================] - 0s 4ms/step - loss: 0.6286 - accuracy: 1.0000\n",
            "Epoch 55/100\n",
            "1/1 [==============================] - 0s 4ms/step - loss: 0.6272 - accuracy: 1.0000\n",
            "Epoch 56/100\n",
            "1/1 [==============================] - 0s 4ms/step - loss: 0.6258 - accuracy: 1.0000\n",
            "Epoch 57/100\n",
            "1/1 [==============================] - 0s 4ms/step - loss: 0.6244 - accuracy: 1.0000\n",
            "Epoch 58/100\n",
            "1/1 [==============================] - 0s 4ms/step - loss: 0.6230 - accuracy: 1.0000\n",
            "Epoch 59/100\n",
            "1/1 [==============================] - 0s 4ms/step - loss: 0.6215 - accuracy: 1.0000\n",
            "Epoch 60/100\n",
            "1/1 [==============================] - 0s 4ms/step - loss: 0.6201 - accuracy: 1.0000\n",
            "Epoch 61/100\n",
            "1/1 [==============================] - 0s 4ms/step - loss: 0.6186 - accuracy: 1.0000\n",
            "Epoch 62/100\n",
            "1/1 [==============================] - 0s 4ms/step - loss: 0.6172 - accuracy: 1.0000\n",
            "Epoch 63/100\n",
            "1/1 [==============================] - 0s 4ms/step - loss: 0.6157 - accuracy: 1.0000\n",
            "Epoch 64/100\n",
            "1/1 [==============================] - 0s 4ms/step - loss: 0.6142 - accuracy: 1.0000\n",
            "Epoch 65/100\n",
            "1/1 [==============================] - 0s 4ms/step - loss: 0.6127 - accuracy: 1.0000\n",
            "Epoch 66/100\n",
            "1/1 [==============================] - 0s 4ms/step - loss: 0.6112 - accuracy: 1.0000\n",
            "Epoch 67/100\n",
            "1/1 [==============================] - 0s 4ms/step - loss: 0.6097 - accuracy: 1.0000\n",
            "Epoch 68/100\n",
            "1/1 [==============================] - 0s 4ms/step - loss: 0.6081 - accuracy: 1.0000\n",
            "Epoch 69/100\n",
            "1/1 [==============================] - 0s 4ms/step - loss: 0.6066 - accuracy: 1.0000\n",
            "Epoch 70/100\n",
            "1/1 [==============================] - 0s 4ms/step - loss: 0.6050 - accuracy: 1.0000\n",
            "Epoch 71/100\n",
            "1/1 [==============================] - 0s 4ms/step - loss: 0.6035 - accuracy: 1.0000\n",
            "Epoch 72/100\n",
            "1/1 [==============================] - 0s 4ms/step - loss: 0.6019 - accuracy: 1.0000\n",
            "Epoch 73/100\n",
            "1/1 [==============================] - 0s 4ms/step - loss: 0.6003 - accuracy: 1.0000\n",
            "Epoch 74/100\n",
            "1/1 [==============================] - 0s 4ms/step - loss: 0.5987 - accuracy: 1.0000\n",
            "Epoch 75/100\n",
            "1/1 [==============================] - 0s 4ms/step - loss: 0.5971 - accuracy: 1.0000\n",
            "Epoch 76/100\n",
            "1/1 [==============================] - 0s 4ms/step - loss: 0.5955 - accuracy: 1.0000\n",
            "Epoch 77/100\n",
            "1/1 [==============================] - 0s 4ms/step - loss: 0.5939 - accuracy: 1.0000\n",
            "Epoch 78/100\n",
            "1/1 [==============================] - 0s 4ms/step - loss: 0.5923 - accuracy: 1.0000\n",
            "Epoch 79/100\n",
            "1/1 [==============================] - 0s 4ms/step - loss: 0.5907 - accuracy: 1.0000\n",
            "Epoch 80/100\n",
            "1/1 [==============================] - 0s 4ms/step - loss: 0.5890 - accuracy: 1.0000\n",
            "Epoch 81/100\n",
            "1/1 [==============================] - 0s 4ms/step - loss: 0.5874 - accuracy: 1.0000\n",
            "Epoch 82/100\n",
            "1/1 [==============================] - 0s 3ms/step - loss: 0.5857 - accuracy: 1.0000\n",
            "Epoch 83/100\n",
            "1/1 [==============================] - 0s 3ms/step - loss: 0.5841 - accuracy: 1.0000\n",
            "Epoch 84/100\n",
            "1/1 [==============================] - 0s 4ms/step - loss: 0.5824 - accuracy: 1.0000\n",
            "Epoch 85/100\n",
            "1/1 [==============================] - 0s 4ms/step - loss: 0.5807 - accuracy: 1.0000\n",
            "Epoch 86/100\n",
            "1/1 [==============================] - 0s 4ms/step - loss: 0.5790 - accuracy: 1.0000\n",
            "Epoch 87/100\n",
            "1/1 [==============================] - 0s 4ms/step - loss: 0.5773 - accuracy: 1.0000\n",
            "Epoch 88/100\n",
            "1/1 [==============================] - 0s 4ms/step - loss: 0.5756 - accuracy: 1.0000\n",
            "Epoch 89/100\n",
            "1/1 [==============================] - 0s 4ms/step - loss: 0.5739 - accuracy: 1.0000\n",
            "Epoch 90/100\n",
            "1/1 [==============================] - 0s 4ms/step - loss: 0.5722 - accuracy: 1.0000\n",
            "Epoch 91/100\n",
            "1/1 [==============================] - 0s 4ms/step - loss: 0.5704 - accuracy: 1.0000\n",
            "Epoch 92/100\n",
            "1/1 [==============================] - 0s 4ms/step - loss: 0.5687 - accuracy: 1.0000\n",
            "Epoch 93/100\n",
            "1/1 [==============================] - 0s 4ms/step - loss: 0.5669 - accuracy: 1.0000\n",
            "Epoch 94/100\n",
            "1/1 [==============================] - 0s 5ms/step - loss: 0.5652 - accuracy: 1.0000\n",
            "Epoch 95/100\n",
            "1/1 [==============================] - 0s 4ms/step - loss: 0.5634 - accuracy: 1.0000\n",
            "Epoch 96/100\n",
            "1/1 [==============================] - 0s 4ms/step - loss: 0.5617 - accuracy: 1.0000\n",
            "Epoch 97/100\n",
            "1/1 [==============================] - 0s 4ms/step - loss: 0.5599 - accuracy: 1.0000\n",
            "Epoch 98/100\n",
            "1/1 [==============================] - 0s 4ms/step - loss: 0.5581 - accuracy: 1.0000\n",
            "Epoch 99/100\n",
            "1/1 [==============================] - 0s 4ms/step - loss: 0.5563 - accuracy: 1.0000\n",
            "Epoch 100/100\n",
            "1/1 [==============================] - 0s 4ms/step - loss: 0.5545 - accuracy: 1.0000\n"
          ]
        },
        {
          "output_type": "execute_result",
          "data": {
            "text/plain": [
              "<keras.callbacks.History at 0x7ff43ad19450>"
            ]
          },
          "metadata": {},
          "execution_count": 39
        }
      ]
    },
    {
      "cell_type": "code",
      "source": [
        "#Evaluate the model\n",
        "loss, accuracy = model.evaluate(X, y)"
      ],
      "metadata": {
        "colab": {
          "base_uri": "https://localhost:8080/"
        },
        "id": "ar1sEeFNT1Ql",
        "outputId": "329282db-d5d8-46a7-f5ca-a369f8878755"
      },
      "execution_count": 40,
      "outputs": [
        {
          "output_type": "stream",
          "name": "stdout",
          "text": [
            "1/1 [==============================] - 0s 73ms/step - loss: 0.5527 - accuracy: 1.0000\n"
          ]
        }
      ]
    },
    {
      "cell_type": "code",
      "source": [
        "#Get all weights\n",
        "model.get_layer('embedding').get_weights()[0]"
      ],
      "metadata": {
        "colab": {
          "base_uri": "https://localhost:8080/"
        },
        "id": "aSv5oLEeT7n_",
        "outputId": "f59f4d65-d81d-4162-dcea-7bf3c833352e"
      },
      "execution_count": 41,
      "outputs": [
        {
          "output_type": "execute_result",
          "data": {
            "text/plain": [
              "array([[-0.1492326 ,  0.11795498, -0.18034896, -0.09432465, -0.14160587],\n",
              "       [-0.1415202 ,  0.15160763,  0.12115304,  0.12440564,  0.1167207 ],\n",
              "       [-0.0386935 , -0.00486056, -0.00758849, -0.04727022,  0.00563633],\n",
              "       [ 0.05979236,  0.07889595,  0.08548206, -0.09246062,  0.09957943],\n",
              "       [ 0.03730036,  0.04088168,  0.00365051, -0.02319893,  0.03496008],\n",
              "       [ 0.03253357, -0.02490813, -0.04540716, -0.03565363, -0.02062886],\n",
              "       [ 0.01973798,  0.00028964, -0.01707352, -0.03467872, -0.01711161],\n",
              "       [-0.05935244, -0.14464717, -0.08439516,  0.13555963, -0.12918718],\n",
              "       [ 0.05169876, -0.15979719, -0.05271308, -0.08241813, -0.11266648],\n",
              "       [ 0.04612838,  0.04608026, -0.0091816 , -0.03679014, -0.01650969],\n",
              "       [-0.11579125,  0.14898308, -0.13631253, -0.10284419, -0.08679096],\n",
              "       [ 0.01469306,  0.03459093,  0.0722848 , -0.01450903,  0.04435264],\n",
              "       [ 0.03691525,  0.02959064,  0.0024317 ,  0.0297194 ,  0.01672078],\n",
              "       [-0.00613759, -0.01819006,  0.00722887,  0.0143094 ,  0.01885053],\n",
              "       [ 0.0364258 ,  0.0059459 , -0.03460852, -0.04181502,  0.03520347],\n",
              "       [-0.03857   , -0.02797841,  0.02815706,  0.03197488, -0.04968188],\n",
              "       [-0.10345449, -0.06829713, -0.06786498,  0.06528345, -0.12076486],\n",
              "       [ 0.12471597, -0.07879232, -0.08202213, -0.11186241, -0.13891871],\n",
              "       [ 0.04430116, -0.04177129, -0.0457803 , -0.03702759, -0.00248673],\n",
              "       [ 0.12035724,  0.1454132 , -0.12466431, -0.06637003,  0.14207344],\n",
              "       [-0.06643653,  0.14742371,  0.10183595,  0.10846978,  0.10224036],\n",
              "       [-0.04734682,  0.01283641, -0.03796288,  0.00971098, -0.04203664],\n",
              "       [ 0.00182549, -0.02387837, -0.02982192,  0.0323942 , -0.02810897],\n",
              "       [ 0.10723265, -0.10039866, -0.14544743, -0.11873847, -0.1352141 ],\n",
              "       [ 0.08104762,  0.10599678,  0.10718033, -0.0618262 ,  0.10202143],\n",
              "       [ 0.14121851, -0.12900028,  0.13251291,  0.10070795,  0.15396486],\n",
              "       [-0.03469038,  0.03734211, -0.04882598,  0.04248843,  0.00889282],\n",
              "       [-0.03725748, -0.01501393,  0.0493004 , -0.00833295, -0.03335841],\n",
              "       [ 0.01616016,  0.04454074,  0.01293815, -0.0453944 , -0.01566868],\n",
              "       [ 0.01878813,  0.00186268, -0.03850716,  0.03932091,  0.03746483]],\n",
              "      dtype=float32)"
            ]
          },
          "metadata": {},
          "execution_count": 41
        }
      ]
    },
    {
      "cell_type": "code",
      "source": [
        "len(model.get_layer('embedding').get_weights()[0])"
      ],
      "metadata": {
        "id": "GNrKDPCM9BHV",
        "colab": {
          "base_uri": "https://localhost:8080/"
        },
        "outputId": "c1ad8c18-60d8-48dd-8693-c928c50217d2"
      },
      "execution_count": 46,
      "outputs": [
        {
          "output_type": "execute_result",
          "data": {
            "text/plain": [
              "30"
            ]
          },
          "metadata": {},
          "execution_count": 46
        }
      ]
    }
  ]
}